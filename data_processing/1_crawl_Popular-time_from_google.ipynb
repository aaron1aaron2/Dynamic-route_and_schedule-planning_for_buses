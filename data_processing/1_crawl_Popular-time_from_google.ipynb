{
 "cells": [
  {
   "cell_type": "markdown",
   "metadata": {},
   "source": [
    "# Crawl popular-time from Google\n",
    "## INFO\n",
    "- \\[Encoding\\] : `utf-8`\n",
    "- \\[Author\\] : `yen-nan ho`\n",
    "- \\[Contact\\] : `aaron1aaron2@gmail.com`\n",
    "- \\[GitHub\\] : `https://github.com/aaron1aaron2`\n",
    "- \\[Create Date\\] :  `20210804`"
   ]
  },
  {
   "cell_type": "markdown",
   "metadata": {},
   "source": [
    "## 1. 爬取景點基本資訊與熱門時段\n",
    "\n",
    "`注意: google 爬蟲可能因為 google 網頁改版而失效`"
   ]
  },
  {
   "cell_type": "code",
   "execution_count": 22,
   "metadata": {},
   "outputs": [],
   "source": [
    "from sub_project.google_place_crawler import main_controller"
   ]
  },
  {
   "cell_type": "code",
   "execution_count": 3,
   "metadata": {},
   "outputs": [
    {
     "name": "stdout",
     "output_type": "stream",
     "text": [
      "Checking output folder!\n",
      "No data in output folder!\n",
      "target: 33\n",
      "Current progress: 0/4\n",
      "Current progress: 1/4\n",
      "Current progress: 2/4\n",
      "Current progress: 3/4\n",
      "Current progress: 4/4\n"
     ]
    }
   ],
   "source": [
    "Crawler = main_controller.Crawler(\n",
    "        file_path = 'data/raw/scenic_spot/spot_list(manual).xlsx',\n",
    "        sheet_name = 'spot_use',\n",
    "        target = 'name',\n",
    "        output_folder = 'data/proccess/1_popular_time',\n",
    "        chunk_size = 8\n",
    "    )\n",
    "Crawler.run()"
   ]
  },
  {
   "cell_type": "markdown",
   "metadata": {},
   "source": [
    "## 2. 合併資料"
   ]
  },
  {
   "cell_type": "code",
   "execution_count": 15,
   "metadata": {},
   "outputs": [],
   "source": [
    "import pandas as pd\n",
    "\n",
    "df = pd.read_csv('data/proccess/1_popular_time/main.csv')\n",
    "main_df = pd.read_excel('data/raw/scenic_spot/spot_list(manual).xlsx', sheet_name='spot_googlemap_keyword', engine='openpyxl')\n",
    "main_df.merge(df, how='left', left_on='keyword', right_on='keyword').to_pickle('data/proccess/1_popular_time/main.pkl')\n"
   ]
  },
  {
   "cell_type": "markdown",
   "metadata": {},
   "source": [
    "## 3. 整理熱門時間資料"
   ]
  },
  {
   "cell_type": "code",
   "execution_count": 36,
   "metadata": {},
   "outputs": [],
   "source": [
    "import ast\n",
    "import pandas as pd\n",
    "\n",
    "df = pd.read_pickle('data/proccess/1_popular_time/main.pkl')\n",
    "\n",
    "timeflow_all_df = pd.DataFrame()\n",
    "for i in range(df.shape[0]):\n",
    "    if df.loc[i, 'have_time_flow'] == False:\n",
    "        pass\n",
    "    else:\n",
    "        timeflow = ast.literal_eval(df.loc[i, 'time_flow'])\n",
    "        for w in timeflow.keys():\n",
    "            for time in timeflow[w].keys():\n",
    "                if time.find('目前繁忙程度')!=-1:\n",
    "                    time_miss = list(set(['{}時'.format(i) for i in range(24)][-len(timeflow[w]):]) - set(timeflow[w].keys()))[0]\n",
    "                    timeflow[w][time_miss] = timeflow[w][time].replace(')','')\n",
    "                    del timeflow[w][time]\n",
    "\n",
    "        timeflow_df = pd.DataFrame(timeflow).rename(\n",
    "            columns={'0':'日', '1':'一', '2':'二', '3':'三', '4':'四', '5':'五', '6':'六'}\n",
    "                ).T\n",
    "        timeflow_df = timeflow_df.reset_index().rename(columns={'index':'week'})\n",
    "        timeflow_df['keyword'] = df.loc[i, 'keyword']\n",
    "        timeflow_df['遊憩據點'] = df.loc[i, '遊憩據點']\n",
    "        timeflow_df['result_name'] = df.loc[i, 'result_name']\n",
    "\n",
    "        timeflow_all_df = timeflow_all_df.append(timeflow_df)"
   ]
  },
  {
   "cell_type": "code",
   "execution_count": 37,
   "metadata": {},
   "outputs": [],
   "source": [
    "convert_dt = {\n",
    "    0:'日',\n",
    "    1:'一',\n",
    "    2:'二',\n",
    "    3:'三',\n",
    "    4:'四',\n",
    "    5:'五',\n",
    "    6:'六',\n",
    "}\n",
    "\n",
    "timeflow_all_df['week'] = timeflow_all_df.week.apply(lambda x: convert_dt[x])"
   ]
  },
  {
   "cell_type": "code",
   "execution_count": 38,
   "metadata": {},
   "outputs": [],
   "source": [
    "col = ['遊憩據點', 'result_name', 'week'] + ['{}時'.format(i) for i in range(24)]\n",
    "\n",
    "timeflow_all_df[col].to_csv('data/final/1_popular_time.csv', index=False)\n",
    "timeflow_all_df[col].to_csv('../data/popular_time.csv', index=False)"
   ]
  }
 ],
 "metadata": {
  "interpreter": {
   "hash": "c38288adc8ce20cf983f8cd66aa354194f363b95f072d1883200899540865fef"
  },
  "kernelspec": {
   "display_name": "Python 3.7.9 64-bit ('.venv': venv)",
   "name": "python3"
  },
  "language_info": {
   "codemirror_mode": {
    "name": "ipython",
    "version": 3
   },
   "file_extension": ".py",
   "mimetype": "text/x-python",
   "name": "python",
   "nbconvert_exporter": "python",
   "pygments_lexer": "ipython3",
   "version": "3.7.9"
  },
  "orig_nbformat": 4
 },
 "nbformat": 4,
 "nbformat_minor": 2
}
