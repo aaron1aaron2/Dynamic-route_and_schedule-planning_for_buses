{
 "cells": [
  {
   "cell_type": "markdown",
   "source": [
    "# Crawl Popular-time from google"
   ],
   "metadata": {}
  },
  {
   "cell_type": "markdown",
   "source": [
    "## 1. 爬取景點基本資訊與熱門時段\r\n",
    "\r\n",
    "`注意: google 爬蟲可能因為 google 網頁改版而失效`"
   ],
   "metadata": {}
  },
  {
   "cell_type": "code",
   "execution_count": 1,
   "source": [
    "from sub_project.google_place_crawler import main_controller"
   ],
   "outputs": [],
   "metadata": {}
  },
  {
   "cell_type": "code",
   "execution_count": 3,
   "source": [
    "Crawler = main_controller.Crawler(\r\n",
    "        file_path = 'data/raw/scenic_spot/spot_list(manual).xlsx',\r\n",
    "        sheet_name = 'spot_use',\r\n",
    "        target = 'name',\r\n",
    "        output_folder = 'data/proccess/1_popular_time',\r\n",
    "        chunk_size = 8\r\n",
    "    )\r\n",
    "Crawler.run()"
   ],
   "outputs": [
    {
     "output_type": "stream",
     "name": "stdout",
     "text": [
      "Checking output folder!\n",
      "No data in output folder!\n",
      "target: 33\n",
      "Current progress: 0/4\n",
      "Current progress: 1/4\n",
      "Current progress: 2/4\n",
      "Current progress: 3/4\n",
      "Current progress: 4/4\n"
     ]
    }
   ],
   "metadata": {}
  },
  {
   "cell_type": "markdown",
   "source": [
    "## 2. 合併資料"
   ],
   "metadata": {}
  },
  {
   "cell_type": "code",
   "execution_count": 9,
   "source": [
    "import pandas as pd\r\n",
    "\r\n",
    "df = pd.read_json('data/proccess/1_popular_time/main.json', lines=True, orient='records')\r\n",
    "main_df = pd.read_excel('data/raw/scenic_spot/spot_list(manual).xlsx', sheet_name='spot_use', engine='openpyxl')\r\n",
    "main_df.merge(df, how='left', left_on='name', right_on='keyword').to_pickle('data/proccess/1_popular_time/main.pkl')\r\n"
   ],
   "outputs": [],
   "metadata": {}
  },
  {
   "cell_type": "markdown",
   "source": [
    "## 3. 整理熱門時間資料"
   ],
   "metadata": {}
  },
  {
   "cell_type": "code",
   "execution_count": 11,
   "source": [
    "import pandas as pd\r\n",
    "\r\n",
    "df = pd.read_pickle('data/proccess/1_popular_time/main.pkl')\r\n",
    "\r\n",
    "timeflow_all_df = pd.DataFrame()\r\n",
    "for i in range(df.shape[0]):\r\n",
    "    if df.loc[i, 'have_time_flow'] == False:\r\n",
    "        pass\r\n",
    "    else:\r\n",
    "        timeflow = df.loc[i, 'time_flow']\r\n",
    "        for w in timeflow.keys():\r\n",
    "            for time in timeflow[w].keys():\r\n",
    "                if time.find('目前繁忙程度')!=-1:\r\n",
    "                    time_miss = list(set(['{}時'.format(i) for i in range(24)][-len(timeflow[w]):]) - set(timeflow[w].keys()))[0]\r\n",
    "                    timeflow[w][time_miss] = timeflow[w][time].replace(')','')\r\n",
    "                    del timeflow[w][time]\r\n",
    "\r\n",
    "        timeflow_df = pd.DataFrame(timeflow).rename(\r\n",
    "            columns={'0':'日', '1':'一', '2':'二', '3':'三', '4':'四', '5':'五', '6':'六'}\r\n",
    "                ).T\r\n",
    "        timeflow_df = timeflow_df.reset_index().rename(columns={'index':'week'})\r\n",
    "        timeflow_df['keyword'] = df.loc[i, 'keyword']\r\n",
    "        timeflow_df['遊憩據點'] = df.loc[i, '遊憩據點']\r\n",
    "        timeflow_df['result_name'] = df.loc[i, 'result_name']\r\n",
    "\r\n",
    "        timeflow_all_df = timeflow_all_df.append(timeflow_df)\r\n",
    "col = ['遊憩據點', 'result_name', 'week'] + ['{}時'.format(i) for i in range(24)]\r\n",
    "\r\n",
    "timeflow_all_df[col].to_csv('data/final/1_popular_time.csv', index=False)\r\n",
    "timeflow_all_df[col].to_csv('../data/popular_time.csv', index=False)"
   ],
   "outputs": [],
   "metadata": {}
  }
 ],
 "metadata": {
  "orig_nbformat": 4,
  "language_info": {
   "name": "python",
   "version": "3.7.9",
   "mimetype": "text/x-python",
   "codemirror_mode": {
    "name": "ipython",
    "version": 3
   },
   "pygments_lexer": "ipython3",
   "nbconvert_exporter": "python",
   "file_extension": ".py"
  },
  "kernelspec": {
   "name": "python3",
   "display_name": "Python 3.7.9 64-bit ('.venv': venv)"
  },
  "interpreter": {
   "hash": "4bb08a11f055f235737c5faec9f5fc17ef487215a0eca7f1e94be95b0617db61"
  }
 },
 "nbformat": 4,
 "nbformat_minor": 2
}