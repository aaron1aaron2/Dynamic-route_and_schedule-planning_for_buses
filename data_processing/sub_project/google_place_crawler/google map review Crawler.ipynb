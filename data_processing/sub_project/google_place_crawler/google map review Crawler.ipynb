{
 "cells": [
  {
   "cell_type": "markdown",
   "metadata": {},
   "source": [
    "# 爬取 google map 評論\n",
    "- [step 1: 載入套件 & 取得 html](#step-1:-載入套件-&-取得-html)\n",
    "- [step 2: 取得 map url](#step-2:-取得-map-url)\n",
    "- [step 3: 取得所有 button url (主要有行車路線和官網)](#step-3:-取得所有-button-url-(主要有行車路線和官網))\n",
    "- [step 4: 其他資訊](#step-4:-其他資訊)\n",
    "- [step 5: 處理其他人也搜尋](#step-5:-處理其他人也搜尋)\n",
    "- [step 6: 使用 api 處理動態增加的評論](#step-6:-使用-api-處理動態增加的評論)\n",
    "\n",
    "# 載入套件"
   ]
  },
  {
   "cell_type": "code",
   "execution_count": 1,
   "metadata": {
    "scrolled": true
   },
   "outputs": [],
   "source": [
    "#讀取網頁原始碼\n",
    "import re\n",
    "import requests\n",
    "import pandas as pd\n",
    "from bs4 import BeautifulSoup\n",
    "import urllib"
   ]
  },
  {
   "cell_type": "markdown",
   "metadata": {},
   "source": [
    "# step 1: 將 key word 轉換成搜尋 url & 確認該 url 頁面狀態"
   ]
  },
  {
   "cell_type": "code",
   "execution_count": 2,
   "metadata": {},
   "outputs": [],
   "source": [
    "def get_search_url(target):\n",
    "    # string to url encoding\n",
    "    tar_urlencode = urllib.parse.quote(target)\n",
    "\n",
    "    return 'https://www.google.com/search?q={}'.format(tar_urlencode)"
   ]
  },
  {
   "cell_type": "code",
   "execution_count": 3,
   "metadata": {},
   "outputs": [],
   "source": [
    "def get_header():\n",
    "    return {'user-agent': 'Mozilla/5.0 (Windows NT 10.0; Win64; x64) AppleWebKit/537.36 (KHTML, like Gecko) Chrome/80.0.3987.122 Safari/537.36'}"
   ]
  },
  {
   "cell_type": "code",
   "execution_count": 4,
   "metadata": {
    "tags": []
   },
   "outputs": [
    {
     "output_type": "stream",
     "name": "stdout",
     "text": "https://www.google.com/search?q=%E9%99%BD%E6%98%8E%E5%B1%B1\n"
    }
   ],
   "source": [
    "target = '陽明山'\n",
    "# target = \"冷水坑\"\n",
    "# target = '八仙洞'\n",
    "url = get_search_url(target)\n",
    "print(url)"
   ]
  },
  {
   "cell_type": "markdown",
   "metadata": {},
   "source": [
    "## 確認當下取得的取得的網頁狀態"
   ]
  },
  {
   "cell_type": "code",
   "execution_count": 5,
   "metadata": {
    "tags": []
   },
   "outputs": [
    {
     "output_type": "stream",
     "name": "stdout",
     "text": "success!\n"
    }
   ],
   "source": [
    "html = requests.get(url, headers=get_header())\n",
    "if html.status_code == 200:\n",
    "    print('success!')"
   ]
  },
  {
   "cell_type": "code",
   "execution_count": 6,
   "metadata": {},
   "outputs": [],
   "source": [
    "# html 解析器官方建議使用 lxml ，會比預設的 html.parser 快。\n",
    "soup = BeautifulSoup(html.text, 'lxml') # soup = BeautifulSoup(html.text, 'html.parser')"
   ]
  },
  {
   "cell_type": "code",
   "execution_count": 7,
   "metadata": {},
   "outputs": [],
   "source": [
    "# 是否包含多個搜尋結果(通常景點範圍較大)\n",
    "soup.find(\"div\", class_=\"xERobd\")"
   ]
  },
  {
   "cell_type": "code",
   "execution_count": 8,
   "metadata": {},
   "outputs": [],
   "source": [
    "# 蒐集本次爬從所有資訊\n",
    "info_dt = {}"
   ]
  },
  {
   "cell_type": "markdown",
   "metadata": {},
   "source": [
    "# step 2: 取得 map url\n",
    "---\n",
    "![](https://i.imgur.com/EmfoIgD.png)"
   ]
  },
  {
   "cell_type": "code",
   "execution_count": 9,
   "metadata": {
    "scrolled": true
   },
   "outputs": [],
   "source": [
    "map_div_tag = soup.find('img',class_=\"lu-fs\")"
   ]
  },
  {
   "cell_type": "code",
   "execution_count": 10,
   "metadata": {},
   "outputs": [],
   "source": [
    "map_div_tag"
   ]
  },
  {
   "cell_type": "code",
   "execution_count": 11,
   "metadata": {
    "scrolled": false
   },
   "outputs": [
    {
     "output_type": "execute_result",
     "data": {
      "text/plain": "24"
     },
     "metadata": {},
     "execution_count": 11
    }
   ],
   "source": [
    "# 這代表 <img> 這區塊 有26個比它大的層包住它\n",
    "len(list(map_div_tag.parents))"
   ]
  },
  {
   "cell_type": "code",
   "execution_count": 12,
   "metadata": {},
   "outputs": [],
   "source": [
    "outer_level = list(map_div_tag.parents)[0]"
   ]
  },
  {
   "cell_type": "code",
   "execution_count": 13,
   "metadata": {},
   "outputs": [
    {
     "output_type": "stream",
     "name": "stdout",
     "text": "https://www.google.com/maps/place/%E5%85%AB%E4%BB%99%E6%B4%9E/@23.3971669,121.476676,15z/data=!4m2!3m1!1s0x0:0x2054d2f4f6524d10?sa=X\n"
    }
   ],
   "source": [
    "locat_map_url = 'https://www.google.com{}'.format(outer_level['data-url'])\n",
    "info_dt['google_map_url'] = locat_map_url\n",
    "print(locat_map_url)"
   ]
  },
  {
   "cell_type": "markdown",
   "metadata": {},
   "source": [
    "\n",
    "\n",
    "# step 3: 取得所有 button url (主要有行車路線和官網)\n",
    "\n",
    "---\n",
    "\n",
    "![](https://i.imgur.com/7FzPpt5.png)"
   ]
  },
  {
   "cell_type": "code",
   "execution_count": 14,
   "metadata": {},
   "outputs": [],
   "source": [
    "# 所有 button 的文字\n",
    "button_tag_ls = soup.find_all('a',class_=\"ab_button\")"
   ]
  },
  {
   "cell_type": "code",
   "execution_count": 15,
   "metadata": {},
   "outputs": [],
   "source": [
    "button_tag_dt = {i.text:i for i in button_tag_ls}"
   ]
  },
  {
   "cell_type": "code",
   "execution_count": 16,
   "metadata": {},
   "outputs": [
    {
     "output_type": "stream",
     "name": "stdout",
     "text": "http://www.eastcoast-nsa.gov.tw/zh-tw/Attractions/Detail/37\n"
    }
   ],
   "source": [
    "if '網站'in button_tag_dt:\n",
    "    info_dt['official_web'] = button_tag_dt['網站']['href']\n",
    "    print(button_tag_dt['網站']['href'])"
   ]
  },
  {
   "cell_type": "code",
   "execution_count": 17,
   "metadata": {},
   "outputs": [
    {
     "name": "stdout",
     "output_type": "stream",
     "text": [
      "https://www.google.com/maps/dir//%E5%85%AB%E4%BB%99%E6%B4%9E/data=!4m6!4m5!1m1!4e2!1m2!1m1!1s0x346f5b65ac0a14ff:0x2054d2f4f6524d10?sa=X\n"
     ]
    }
   ],
   "source": [
    "if '行車路線'in button_tag_dt:\n",
    "    info_dt['google_map_route'] = button_tag_dt['行車路線']['data-url']\n",
    "    print('https://www.google.com{}'.format(button_tag_dt['行車路線']['data-url']))"
   ]
  },
  {
   "cell_type": "markdown",
   "metadata": {},
   "source": [
    "# step 4: 其他資訊\n",
    "---\n",
    "![](https://i.imgur.com/9liWqVC.png)"
   ]
  },
  {
   "cell_type": "code",
   "execution_count": 18,
   "metadata": {},
   "outputs": [
    {
     "name": "stdout",
     "output_type": "stream",
     "text": [
      "3.7\n"
     ]
    }
   ],
   "source": [
    "# 評分\n",
    "star_tag = soup.find(class_=\"Aq14fc\")\n",
    "info_dt['星星數'] = star_tag.text\n",
    "print(star_tag.text)"
   ]
  },
  {
   "cell_type": "code",
   "execution_count": 19,
   "metadata": {},
   "outputs": [
    {
     "name": "stdout",
     "output_type": "stream",
     "text": [
      "2,168 則 Google 評論\n"
     ]
    }
   ],
   "source": [
    "# 共幾則評論，可供後續爬取權評論用\n",
    "comment_count = soup.find(class_=\"hqzQac\")\n",
    "print(comment_count.text)\n",
    "info_dt['總評論筆數'] = comment_count.text\n",
    "info_dt['總評論筆數'] = re.match('\\d\\W?\\d+',info_dt['總評論筆數']).group(0).replace(',','')"
   ]
  },
  {
   "cell_type": "code",
   "execution_count": 20,
   "metadata": {},
   "outputs": [
    {
     "name": "stdout",
     "output_type": "stream",
     "text": [
      "八仙洞遺址，俗稱八仙洞，台灣旅遊景點、考古遺址，位於台東縣長濱鄉省道台11線公路旁，為舊石器時代之長濱文化的代表。在2006年，被中華民國政府指定為國定遺址。\n"
     ]
    }
   ],
   "source": [
    "# 主要資訊\n",
    "main_info = soup.find(\"h2\",class_=\"bNg8Rb\",text=\"說明\")\n",
    "info_dt['景點簡介'] = main_info.next_sibling.text\n",
    "print(main_info.next_sibling.text)"
   ]
  },
  {
   "cell_type": "code",
   "execution_count": 21,
   "metadata": {},
   "outputs": [],
   "source": [
    "info_ls = soup.find_all(class_=\"mod\")"
   ]
  },
  {
   "cell_type": "code",
   "execution_count": 22,
   "metadata": {},
   "outputs": [],
   "source": [
    "target_title = ['地址','開放時間','登錄名稱','位置','電話','人們在此停留的時間']\n",
    "for i in info_ls:\n",
    "    t = i.text\n",
    "    for tar in target_title:\n",
    "        if t.find(tar) != -1:\n",
    "            info_dt.update({tar:i.text.split('：')[-1].strip()})"
   ]
  },
  {
   "cell_type": "code",
   "execution_count": 23,
   "metadata": {},
   "outputs": [
    {
     "data": {
      "text/plain": [
       "{'google_map_url': 'https://www.google.com/maps/place/%E5%85%AB%E4%BB%99%E6%B4%9E/@23.3971669,121.476676,15z/data=!4m2!3m1!1s0x0:0x2054d2f4f6524d10?sa=X',\n",
       " 'official_web': 'http://www.eastcoast-nsa.gov.tw/zh-tw/Attractions/Detail/37',\n",
       " 'google_map_route': '/maps/dir//%E5%85%AB%E4%BB%99%E6%B4%9E/data=!4m6!4m5!1m1!4e2!1m2!1m1!1s0x346f5b65ac0a14ff:0x2054d2f4f6524d10?sa=X',\n",
       " '星星數': '3.7',\n",
       " '總評論筆數': '2168',\n",
       " '景點簡介': '八仙洞遺址，俗稱八仙洞，台灣旅遊景點、考古遺址，位於台東縣長濱鄉省道台11線公路旁，為舊石器時代之長濱文化的代表。在2006年，被中華民國政府指定為國定遺址。',\n",
       " '地址': '962台東縣長濱鄉三間村水母丁1-4號',\n",
       " '開放時間': '週三08:30星期二08:30–17:00星期三08:30–17:00星期四08:30–17:00星期五08:30–17:00星期六08:30–17:00星期日08:30–17:00星期一08:30–17:00提出修改建議無法新增這個檔案，請確認這張相片是有效的檔案。',\n",
       " '登錄名稱': '八仙洞遺址',\n",
       " '位置': '中華民國臺東縣長濱鄉',\n",
       " '電話': '08 988 1418',\n",
       " '人們在此停留的時間': '人們在此停留的時間通常不會超過 45 分鐘'}"
      ]
     },
     "execution_count": 23,
     "metadata": {},
     "output_type": "execute_result"
    }
   ],
   "source": [
    "info_dt"
   ]
  },
  {
   "cell_type": "markdown",
   "metadata": {},
   "source": [
    "# step 5: 處理其他人也搜尋\n",
    "---\n",
    "\n",
    "這邊需要先取得`查看更多項目` 的 url ，才能轉去有完整景點的網站\n",
    "![](https://i.imgur.com/6xNrXdl.png)"
   ]
  },
  {
   "cell_type": "code",
   "execution_count": 24,
   "metadata": {},
   "outputs": [],
   "source": [
    "other_search = soup.find(class_=\"VLkRKc\")"
   ]
  },
  {
   "cell_type": "code",
   "execution_count": 25,
   "metadata": {},
   "outputs": [
    {
     "name": "stdout",
     "output_type": "stream",
     "text": [
      "https://www.google.com/search?q=%E5%85%AB%E4%BB%99%E6%B4%9E%E9%81%BA%E5%9D%80&stick=H4sIAAAAAAAAAONgFuLWT9c3NDUtMTBLS1FC5mipZSdb6ZcUJZal5uiX5JcWZRaXxCeWAAWSSzLz86yKM1NSyxMrixex8j9tXf1k98xnW-a9bNz1dG7DDlZGAFY_luBZAAAA&sa=X&ved=2ahUKEwiymtG-zfnoAhUmw4sBHQxtBKwQMSgAMBx6BAgPEAE\n"
     ]
    }
   ],
   "source": [
    "other_search_url = 'https://www.google.com{}'.format(other_search.a['href'])\n",
    "info_dt['other_search_url'] = other_search_url\n",
    "print(other_search_url)"
   ]
  },
  {
   "cell_type": "markdown",
   "metadata": {},
   "source": [
    "### 上面網址可以來到下圖\n",
    "因為它的資料都是預載入，所以可以直接從 html 解析得到，不需要動態或是模仿api\n",
    "\n",
    "![](https://i.imgur.com/5DC5tRI.png)"
   ]
  },
  {
   "cell_type": "code",
   "execution_count": 26,
   "metadata": {},
   "outputs": [
    {
     "name": "stdout",
     "output_type": "stream",
     "text": [
      "success!\n"
     ]
    }
   ],
   "source": [
    "html_other = requests.get(other_search_url, headers = get_header())\n",
    "\n",
    "if html_other.status_code == 200:\n",
    "    print('success!')\n",
    "    \n",
    "soup_other = BeautifulSoup(html_other.text, 'lxml')\n",
    "\n",
    "other_search_ls = soup_other.find_all(\"a\",class_=\"llgymd\")"
   ]
  },
  {
   "cell_type": "code",
   "execution_count": 27,
   "metadata": {},
   "outputs": [
    {
     "name": "stdout",
     "output_type": "stream",
     "text": [
      "success!\n"
     ]
    }
   ],
   "source": [
    "if len(other_search_ls) ==0:\n",
    "    print('error!')\n",
    "else:\n",
    "    print('success!')"
   ]
  },
  {
   "cell_type": "code",
   "execution_count": 28,
   "metadata": {},
   "outputs": [],
   "source": [
    "other_search_dt = {spot['aria-label']:'https://www.google.com{}'.format(spot['href']) for spot in other_search_ls}"
   ]
  },
  {
   "cell_type": "code",
   "execution_count": 29,
   "metadata": {},
   "outputs": [],
   "source": [
    "info_dt['other_search_result'] = other_search_dt"
   ]
  },
  {
   "cell_type": "code",
   "execution_count": 30,
   "metadata": {},
   "outputs": [
    {
     "data": {
      "text/plain": [
       "{'google_map_url': 'https://www.google.com/maps/place/%E5%85%AB%E4%BB%99%E6%B4%9E/@23.3971669,121.476676,15z/data=!4m2!3m1!1s0x0:0x2054d2f4f6524d10?sa=X',\n",
       " 'official_web': 'http://www.eastcoast-nsa.gov.tw/zh-tw/Attractions/Detail/37',\n",
       " 'google_map_route': '/maps/dir//%E5%85%AB%E4%BB%99%E6%B4%9E/data=!4m6!4m5!1m1!4e2!1m2!1m1!1s0x346f5b65ac0a14ff:0x2054d2f4f6524d10?sa=X',\n",
       " '星星數': '3.7',\n",
       " '總評論筆數': '2168',\n",
       " '景點簡介': '八仙洞遺址，俗稱八仙洞，台灣旅遊景點、考古遺址，位於台東縣長濱鄉省道台11線公路旁，為舊石器時代之長濱文化的代表。在2006年，被中華民國政府指定為國定遺址。',\n",
       " '地址': '962台東縣長濱鄉三間村水母丁1-4號',\n",
       " '開放時間': '週三08:30星期二08:30–17:00星期三08:30–17:00星期四08:30–17:00星期五08:30–17:00星期六08:30–17:00星期日08:30–17:00星期一08:30–17:00提出修改建議無法新增這個檔案，請確認這張相片是有效的檔案。',\n",
       " '登錄名稱': '八仙洞遺址',\n",
       " '位置': '中華民國臺東縣長濱鄉',\n",
       " '電話': '08 988 1418',\n",
       " '人們在此停留的時間': '人們在此停留的時間通常不會超過 45 分鐘',\n",
       " 'other_search_url': 'https://www.google.com/search?q=%E5%85%AB%E4%BB%99%E6%B4%9E%E9%81%BA%E5%9D%80&stick=H4sIAAAAAAAAAONgFuLWT9c3NDUtMTBLS1FC5mipZSdb6ZcUJZal5uiX5JcWZRaXxCeWAAWSSzLz86yKM1NSyxMrixex8j9tXf1k98xnW-a9bNz1dG7DDlZGAFY_luBZAAAA&sa=X&ved=2ahUKEwiymtG-zfnoAhUmw4sBHQxtBKwQMSgAMBx6BAgPEAE',\n",
       " 'other_search_result': {'三仙台': 'https://www.google.com/search?sa=X&q=%E4%B8%89%E4%BB%99%E5%8F%B0&stick=H4sIAAAAAAAAAONgFuLWT9c3NDUtMTBLS1Hi0s_VNzBNMioxLNFSy0620i8pSixLzdEvyS8tyiwuiU8sAQokl2Tm51kVZ6aklidWFi9i5Xyyo_PJ7plP-zfsYGUEAJYg0uNSAAAA&ved=2ahUKEwjD9q7GzfnoAhUSHaYKHYQoBSAQ-BYwJXoECBAQKw',\n",
       "  '石梯坪': 'https://www.google.com/search?sa=X&q=%E7%9F%B3%E6%A2%AF%E5%9D%AA&stick=H4sIAAAAAAAAAONgFuLWT9c3NDUtMTBLS1GCcgrSjY2ztdSyk630S4oSy1Jz9EvyS4syi0viE0uAAsklmfl5VsWZKanliZXFi1g5n8_f_GzR-qdzV-1gZQQA37laH1MAAAA&ved=2ahUKEwjD9q7GzfnoAhUSHaYKHYQoBSAQ-BYwJnoECBAQLg',\n",
       "  '石雨傘': 'https://www.google.com/search?sa=X&q=%E7%9F%B3%E9%9B%A8%E4%BC%9E&stick=H4sIAAAAAAAAAONgFuLWT9c3NDUtMTBLS1ECc0rSMoxSjHO11LKTrfRLihLLUnP0S_JLizKLS-ITS4ACySWZ-XlWxZkpqeWJlcWLWDmfz9_8cvaKJ3vm7WBlBAAOAWgvUwAAAA&ved=2ahUKEwjD9q7GzfnoAhUSHaYKHYQoBSAQ-BYwJ3oECBAQMQ',\n",
       "  '小野柳': 'https://www.google.com/search?sa=X&q=%E5%B0%8F%E9%87%8E%E6%9F%B3&stick=H4sIAAAAAAAAAONgFuLWT9c3NDUtMTBLS1ECc0qyUkryCg211LKTrfRLihLLUnP0S_JLizKLS-ITS4ACySWZ-XlWxZkpqeWJlcWLWDmfbuh_2d73bP7mHayMAF5xGAVTAAAA&ved=2ahUKEwjD9q7GzfnoAhUSHaYKHYQoBSAQ-BYwKHoECBAQNA',\n",
       "  '金剛大道｜忠勇自行車道': 'https://www.google.com/search?sa=X&q=%E9%87%91%E5%89%9B%E5%A4%A7%E9%81%93%EF%BD%9C%E5%BF%A0%E5%8B%87%E8%87%AA%E8%A1%8C%E8%BB%8A%E9%81%93&stick=H4sIAAAAAAAAAONgFuLWT9c3NDUtMTBLS1HiBXEMk8zTC8tzsjO01LKTrfRLihLLUnP0S_JLizKLS-ITS4ACySWZ-XlWxZkpqeWJlcWLWBVftk982jn76ZLlLxsnv9875-n-BU-721-0r3qxsOfF7i6g4A5WRgBAw6dJbQAAAA&ved=2ahUKEwjD9q7GzfnoAhUSHaYKHYQoBSAQ-BYwKXoECBAQNw',\n",
       "  '樟原橋': 'https://www.google.com/search?sa=X&q=%E6%A8%9F%E5%8E%9F%E6%A1%A5&stick=H4sIAAAAAAAAAONgFuLWT9c3NDUtMTBLS1HiBXEMk8xyy4qyqlK01LKTrfRLihLLUnP0S_JLizKLS-ITS4ACySWZ-XlWxZkpqeWJlcWLWDmfrZj_tG_-s4VLd7AyAgCHrI6wVQAAAA&ved=2ahUKEwjD9q7GzfnoAhUSHaYKHYQoBSAQ-BYwKnoECBAQOg',\n",
       "  '卑南遺址': 'https://www.google.com/search?sa=X&q=%E5%8D%91%E5%8D%97%E9%81%BA%E5%9D%80&stick=H4sIAAAAAAAAAONgFuLWT9c3NDUtMTBLS1Hi0s_VN4gvM0kxydJSy0620i8pSixLzdEvyS8tyiwuiU8sAQokl2Tm51kVZ6aklidWFi9i5XnaO_Fp7_SXjbuezm3YwcoIAK8Ypr5VAAAA&ved=2ahUKEwjD9q7GzfnoAhUSHaYKHYQoBSAQ-BYwK3oECBAQPQ',\n",
       "  '圓山遺址': 'https://www.google.com/search?sa=X&q=%E5%9C%93%E5%B1%B1%E9%81%BA%E5%9D%80&stick=H4sIAAAAAAAAAONgFuLWT9c3NDUtMTBLS1ECc4wM0w1zLE211LKTrfRLihLLUnP0S_JLizKLS-ITS4ACySWZ-XlWxZkpqeWJlcWLWHmezpn8dOPGl427ns5t2MHKCAC4eulJVgAAAA&ved=2ahUKEwjD9q7GzfnoAhUSHaYKHYQoBSAQ-BYwLHoECBAQQA',\n",
       "  '月洞遊憩區': 'https://www.google.com/search?sa=X&q=%E6%9C%88%E6%B4%9E%E9%81%8A%E6%86%A9%E5%8D%80&stick=H4sIAAAAAAAAAONgFuLWT9c3NDUtMTBLS1HiAXEMKw1yLAxyTbXUspOt9EuKEstSc_RL8kuLMotL4hNLgALJJZn5eVbFmSmp5YmVxYtY-Z_N6Xi2Zd7Lxq5nbSuf9jbsYGUEAO0WpjxaAAAA&ved=2ahUKEwjD9q7GzfnoAhUSHaYKHYQoBSAQ-BYwLXoECBAQQw',\n",
       "  '東部海岸國家風景區': 'https://www.google.com/search?sa=X&q=%E6%9D%B1%E9%83%A8%E6%B5%B7%E5%B2%B8%E5%9C%8B%E5%AE%B6%E9%A2%A8%E6%99%AF%E5%8D%80&stick=H4sIAAAAAAAAAONgFuLWT9c3NDUtMTBLS1GCcgpKjCvLtdSyk630S4oSy1Jz9EvyS4syi0viE0uAAsklmfl5VsWZKanliZXFi1iln83d-LJ5xbOt259u2vF0TvfTddteLlrxbOb6p70NO1gZAZaQECFlAAAA&ved=2ahUKEwjD9q7GzfnoAhUSHaYKHYQoBSAQ-BYwLnoECBAQRg',\n",
       "  '鳳鼻頭遺址': 'https://www.google.com/search?sa=X&q=%E5%87%A4%E9%BC%BB%E5%A4%B4%E9%81%97%E5%9D%80&stick=H4sIAAAAAAAAAONgFuLWT9c3NDUtMTBLS1GCcopyKjIstdSyk630S4oSy1Jz9EvyS4syi0viE0uAAsklmfl5VsWZKanliZXFi1j5n7Yvebln99MlW142Tn86t2EHKyMAWrsrS1kAAAA&ved=2ahUKEwjD9q7GzfnoAhUSHaYKHYQoBSAQ-BYwL3oECBAQSQ',\n",
       "  '長虹橋': 'https://www.google.com/search?sa=X&q=%E9%95%BF%E8%99%B9%E6%A1%A5&stick=H4sIAAAAAAAAAONgFuLWT9c3NDUtMTBLS1HiAXEM0-OrsgyNDbXUspOt9EuKEstSc_RL8kuLMotL4hNLgALJJZn5eVbFmSmp5YmVxYtYOV9O3f9i5s5nC5fuYGUEAGmF_G5UAAAA&ved=2ahUKEwjD9q7GzfnoAhUSHaYKHYQoBSAQ-BYwMHoECBAQTA',\n",
       "  '水往上流遊憩區': 'https://www.google.com/search?sa=X&q=%E6%B0%B4%E5%BE%80%E4%B8%8A%E6%B5%81%E6%B8%B8%E6%86%A9%E5%8C%BA&stick=H4sIAAAAAAAAAONgFuLWT9c3NDUtMTBLS1ECc8oNCivzKiu01LKTrfRLihLLUnP0S_JLizKLS-ITS4ACySWZ-XlWxZkpqeWJlcWLWEWfbdjydF_Dkx1dz7Y2Ptux41nbyqc9u3awMgIANIvB2V8AAAA&ved=2ahUKEwjD9q7GzfnoAhUSHaYKHYQoBSAQ-BYwMXoECBAQTw',\n",
       "  '男人石': 'https://www.google.com/search?sa=X&q=%E7%94%B7%E4%BA%BA%E7%9F%B3&stick=H4sIAAAAAAAAAONgFuLWT9c3NDUtMTBLS1HiAXEKzYySk6vSs7TUspOt9EuKEstSc_RL8kuLMotL4hNLgALJJZn5eVbFmSmp5YmVxYtYOZ9P2f5k167n8zfvYGUEAIXM-sBUAAAA&ved=2ahUKEwjD9q7GzfnoAhUSHaYKHYQoBSAQ-BYwMnoECBAQUg',\n",
       "  '芝山岩遺址': 'https://www.google.com/search?sa=X&q=%E8%8A%9D%E5%B1%B1%E5%B2%A9%E9%81%97%E5%9D%80&stick=H4sIAAAAAAAAAONgFuLWT9c3NDUtMTBLS1GCcorMC-LLtNSyk630S4oSy1Jz9EvyS4syi0viE0uAAsklmfl5VsWZKanliZXFi1j5X3TNfbpx49NNK182Tn86t2EHKyMAytjWPVkAAAA&ved=2ahUKEwjD9q7GzfnoAhUSHaYKHYQoBSAQ-BYwM3oECBAQVQ',\n",
       "  '漢本遺址': 'https://www.google.com/search?sa=X&q=%E6%BC%A2%E6%9C%AC%E9%81%BA%E5%9D%80&stick=H4sIAAAAAAAAAONgFuLWT9c3NDUtMTBLS1HiBXEMk8yS87INc3K01LKTrfRLihLLUnP0S_JLizKLS-ITS4ACySWZ-XlWxZkpqeWJlcWLWHme7Vn0bM6al427ns5t2MHKCADrWzC9WAAAAA&ved=2ahUKEwjD9q7GzfnoAhUSHaYKHYQoBSAQ-BYwNHoECBAQWA',\n",
       "  '舊東河橋': 'https://www.google.com/search?sa=X&q=%E8%88%8A%E6%9D%B1%E6%B2%B3%E6%A9%8B&stick=H4sIAAAAAAAAAONgFuLWT9c3NDUtMTBLS1HiBXEMk8ySygyzCnO11LKTrfRLihLLUnP0S_JLizKLS-ITS4ACySWZ-XlWxZkpqeWJlcWLWHledHQ9m7vx2abNz1Z272BlBAA5AQ8KWAAAAA&ved=2ahUKEwjD9q7GzfnoAhUSHaYKHYQoBSAQ-BYwNXoECBAQWw',\n",
       "  '親不知子海上古道': 'https://www.google.com/search?sa=X&q=%E8%A6%AA%E4%B8%8D%E7%9F%A5%E5%AD%90%E5%A4%A9%E7%A9%BA%E6%AD%A5%E9%81%93&stick=H4sIAAAAAAAAAONgFuLWT9c3NDUtMTBLS1HiBXEMU9LMs4qrMgy11LKTrfRLihLLUnP0S_JLizKLS-ITS4ACySWZ-XlWxZkpqeWJlcWLWCVeLFv1ZEfv8_lLn66d8HTJyucrdz1bu_Rl4-QdrIwAmR0OFmQAAAA&ved=2ahUKEwjD9q7GzfnoAhUSHaYKHYQoBSAQ-BYwNnoECBAQXg',\n",
       "  '都蘭遺址': 'https://www.google.com/search?sa=X&q=%E9%83%BD%E5%85%B0%E9%81%97%E5%9D%80&stick=H4sIAAAAAAAAAONgFuLWT9c3NDUtMTBLS1Hi1s_VNzA0yo43rKrQUstOttIvKUosS83RL8kvLcosLolPLAEKJJdk5udZFWempJYnVhYvYuV52bz3aeuGl43Tn85t2MHKCAD9onfTVgAAAA&ved=2ahUKEwjD9q7GzfnoAhUSHaYKHYQoBSAQ-BYwN3oECBAQYQ',\n",
       "  '巴蘭遺址': 'https://www.google.com/search?sa=X&q=%E5%B7%B4%E5%85%B0%E9%81%97%E5%9D%80&stick=H4sIAAAAAAAAAONgFuLWT9c3NDUtMTBLS1HiBXEMk8ySysyMUiq01LKTrfRLihLLUnP0S_JLizKLS-ITS4ACySWZ-XlWxZkpqeWJlcWLWHmebt_ytHXDy8bpT-c27GBlBADljEUdWAAAAA&ved=2ahUKEwjD9q7GzfnoAhUSHaYKHYQoBSAQ-BYwOHoECBAQZA',\n",
       "  '石梯坪遊憩風景區': 'https://www.google.com/search?sa=X&q=%E7%9F%B3%E6%A2%AF%E5%9D%AA%E9%81%8A%E6%86%A9%E9%A2%A8%E6%99%AF%E5%8D%80&stick=H4sIAAAAAAAAAONgFuLWT9c3NDUtMTBLS1ECc0qyc_IsDcq11LKTrfRLihLLUnP0S_JLizKLS-ITS4ACySWZ-XlWxZkpqeWJlcWLWCWez9_8bNH6p3NXvWzseta28uWiFc9mrn_a27CDlREAaMM1O2IAAAA&ved=2ahUKEwjD9q7GzfnoAhUSHaYKHYQoBSAQ-BYwOXoECBAQZw',\n",
       "  '靜浦北迴歸線界標': 'https://www.google.com/search?sa=X&q=%E5%8C%97%E8%BF%B4%E6%AD%B8%E7%B7%9A%E5%9C%B0%E6%A8%99&stick=H4sIAAAAAAAAAONgFuLWT9c3NDUtMTBLS1HiBXEMkyorM8otDaq01LKTrfRLihLLUnP0S_JLizKLS-ITS4ACySWZ-XlWxZkpqeWJlcWLWIWe9kx_sX_Ls7U7nm-f9XTOhmcrZu5gZQQAh21e7F4AAAA&ved=2ahUKEwjD9q7GzfnoAhUSHaYKHYQoBSAQ-BYwOnoECBAQag',\n",
       "  '牛罵頭遺址': 'https://www.google.com/search?sa=X&q=%E7%89%9B%E7%BD%B5%E9%A0%AD%E9%81%BA%E5%9D%80&stick=H4sIAAAAAAAAAONgFuLWT9c3NDUtMTBLS1Hi1s_VNzA0MihPyjDUUstOttIvKUosS83RL8kvLcosLolPLAEKJJdk5udZFWempJYnVhYvYuV_3jn7-d6tLxesfdm46-nchh2sjAA7NuxOWQAAAA&ved=2ahUKEwjD9q7GzfnoAhUSHaYKHYQoBSAQ-BYwO3oECBAQbQ',\n",
       "  '國立台灣史前文化博物館': 'https://www.google.com/search?sa=X&q=%E5%9B%BD%E7%AB%8B%E5%8F%B0%E6%B9%BE%E5%8F%B2%E5%89%8D%E6%96%87%E5%8C%96%E5%8D%9A%E7%89%A9%E9%A6%86&stick=H4sIAAAAAAAAAAFpAJb_CAMSCy9nLzE1NXQwNmZkIgkvbS8wM3NmOHIqJmtjOi90cmF2ZWwvdG91cmlzdF9hdHRyYWN0aW9uOnNpZGV3YXlzogUh5Zu956uL5Y-w5rm-5Y-y5YmN5paH5YyW5Y2a54mp6aaGuAUBNmOm5WkAAAA&ved=2ahUKEwjD9q7GzfnoAhUSHaYKHYQoBSAQ-BYwPHoECBAQcA'}}"
      ]
     },
     "execution_count": 30,
     "metadata": {},
     "output_type": "execute_result"
    }
   ],
   "source": [
    "info_dt"
   ]
  },
  {
   "cell_type": "markdown",
   "metadata": {},
   "source": [
    "## step 6: 使用 api 處理動態增加的評論\n",
    "---\n",
    "![](https://i.imgur.com/NmXFTOd.png)"
   ]
  },
  {
   "cell_type": "code",
   "execution_count": 9,
   "metadata": {
    "tags": []
   },
   "outputs": [
    {
     "output_type": "stream",
     "name": "stdout",
     "text": "0x3442adf824cfc74b%3A0x5c0be3a34fc3b079\n"
    }
   ],
   "source": [
    "# 取得 feature id\n",
    "buttom_ls = soup.find_all(role=\"button\")\n",
    "comment_buttom = [i for i in buttom_ls if i.text=='查看所有 Google 評論'][0]\n",
    "feature_id = urllib.parse.quote(comment_buttom['data-fid'])\n",
    "print(feature_id)"
   ]
  },
  {
   "cell_type": "code",
   "execution_count": 10,
   "metadata": {
    "tags": []
   },
   "outputs": [
    {
     "output_type": "stream",
     "name": "stdout",
     "text": "YZFDX4GSOdHomAXz6JXoAw\n"
    }
   ],
   "source": [
    "# 取得 ei\n",
    "ei_ls = soup.find_all(\"input\", type=\"hidden\")\n",
    "\n",
    "def find_ei(ei_ls:list):\n",
    "    for i in ei_ls:\n",
    "        try:\n",
    "            if i['name'] == \"ei\": return i['value']\n",
    "        except:\n",
    "            continue\n",
    "            \n",
    "ei = find_ei(ei_ls)\n",
    "print(ei)"
   ]
  },
  {
   "cell_type": "code",
   "execution_count": 11,
   "metadata": {},
   "outputs": [],
   "source": [
    "# 生成 api 網址\n",
    "def get_api_url(idx:int, fid:str, ei:str):\n",
    "    api_url = \"https://www.google.com/async/reviewDialog?ei={}&yv=3&async=feature_id:{},review_source:All%20reviews,sort_by:qualityScore,start_index:{},is_owner:false,filter_text:,associated_topic:,next_page_token:,async_id_prefix:,_pms:s,_fmt:pc\"\\\n",
    "    .format(ei, fid, idx)\n",
    "    \n",
    "    return api_url"
   ]
  },
  {
   "cell_type": "code",
   "execution_count": 12,
   "metadata": {},
   "outputs": [],
   "source": [
    "def get_comment(url:str, debug=True):\n",
    "    html_coment = requests.get(url, headers = get_header(), stream=True)\n",
    "\n",
    "    if (html_coment.status_code == 200)&(debug):\n",
    "        print('success!')\n",
    "\n",
    "    soup_coment = BeautifulSoup(html_coment.text, 'lxml')\n",
    "    tmp = soup_coment.find_all('span',jscontroller=\"i6OOIc\")\n",
    "    comment_ls = []\n",
    "    for i in tmp:\n",
    "        comment_ls.append(i.text)\n",
    "    \n",
    "    return comment_ls"
   ]
  },
  {
   "cell_type": "code",
   "execution_count": 13,
   "metadata": {},
   "outputs": [],
   "source": [
    "api_url = get_api_url(0, fid=feature_id, ei=ei)\n",
    "html_coment = requests.get(api_url, headers = get_header(), stream=True)\n",
    "soup_coment = BeautifulSoup(html_coment.text, 'lxml')\n",
    "tmp = soup_coment.find_all('div', jscontroller=\"e6Mltc\") # 整筆評論主要物件"
   ]
  },
  {
   "cell_type": "code",
   "execution_count": 15,
   "metadata": {},
   "outputs": [
    {
     "output_type": "execute_result",
     "data": {
      "text/plain": "<div class=\"WMbnJf gws-localreviews__google-review\" jsaction=\"rcuQ6b:npT2md\" jscontroller=\"e6Mltc\" jsdata=\"iVOPBe;;AWDNlc\"><a class=\"fl\" href=\"https://www.google.com/maps/contrib/102532542882564690524?hl=zh-Hant-TW&amp;sa=X&amp;ved=2ahUKEwia_d-OzLPrAhXlKqYKHaeHCdQQvfQBegQIARAU\" style=\"cursor:pointer\" tabindex=\"-1\"><img alt=\"Yitine Hange\" class=\"lDY1rd\" src=\"https://lh4.googleusercontent.com/-ZTagYVs27v4/AAAAAAAAAAI/AAAAAAAAAAA/AMZuucmWzerYUpm6uVNXVXHDBLVHQowBXA/s40-c0x00000000-cc-rp/photo.jpg\"/></a><div class=\"jxjCjc\"><div class=\"TSUbDb\" style=\"display:block\"><a href=\"https://www.google.com/maps/contrib/102532542882564690524?hl=zh-Hant-TW&amp;sa=X&amp;ved=2ahUKEwia_d-OzLPrAhXlKqYKHaeHCdQQvvQBegQIARAV\">Yitine Hange</a></div><div class=\"FGlxyd\" style=\"display:block\"><a class=\"Msppse\" href=\"https://www.google.com/maps/contrib/102532542882564690524?hl=zh-Hant-TW&amp;sa=X&amp;ved=2ahUKEwia_d-OzLPrAhXlKqYKHaeHCdQQvvQBegQIARAW\"><span class=\"A503be\">4 則評論</span></a></div><div style=\"vertical-align:top\"><div class=\"PuaHbe\" tabindex=\"0\"><g-review-stars style=\"padding-right:7px\"><span aria-label=\"評等：5.0 (最高：5)，\" class=\"Fam1ne EBe2gf\"><span style=\"width:70px\"></span></span></g-review-stars><span class=\"dehysf\">3 天前</span><span aria-label=\",\"></span><span class=\"yU52c\"><span class=\"wUC6ie\">-</span><a class=\"dD2lld\" href=\"https://www.google.com/local/review/rap/redirect?pdata=ChUxMDI1MzI1NDI4ODI1NjQ2OTA1MjQSEgkAAAAAAAAAABF5sMNPo-MLXA&amp;wv=1&amp;s=1\" id=\"tsuidbpFDX5qODeXVmAWnj6agDQ1\" target=\"_blank\" title=\"檢舉不當內容\"><script nonce=\"em2Tk3UKxRccG9nWdQbMAA==\">(function(){var id='tsuidbpFDX5qODeXVmAWnj6agDQ1';document.getElementById(id).oncontextmenu = function(){return false;};})();</script></a></span></div><div class=\"Jtu6Td\"><span jsaction=\"rcuQ6b:npT2md\" jscontroller=\"P7L8k\" tabindex=\"0\">海芋季非常推薦一定要來！！！（不建議假日 塞爆）<br/>空氣清新  風景宜人 ，超適合帶二寶來放電<br/>價格也不貴</span></div><div class=\"hTt9T\"></div></div></div><div class=\"GmO6pf\"><div><button aria-label=\"將評論標示為有幫助。\" aria-pressed=\"false\" class=\"tdBFC\" data-ri=\"ChdDSUhNMG9nS0VJQ0FnSUNDbHV6cXR3RRAB\" data-ved=\"2ahUKEwia_d-OzLPrAhXlKqYKHaeHCdQQ9rwBegQIARAZ\" jsaction=\"rcuQ6b:npT2md;XSVqVe\" jscontroller=\"lwhOEc\" jsname=\"HcHK1c\" role=\"button\"><span class=\"icGDpd z1asCe iC5a4e\"><svg focusable=\"false\" viewbox=\"0 0 24 24\" xmlns=\"http://www.w3.org/2000/svg\"><path d=\"M1 21h4V9H1v12zm22-11c0-1.1-.9-2-2-2h-6.31l.95-4.57.03-.32c0-.41-.17-.79-.44-1.06L14.17 1 7.59 7.59C7.22 7.95 7 8.45 7 9v10c0 1.1.9 2 2 2h9c.83 0 1.54-.5 1.84-1.22l3.02-7.05c.09-.23.14-.47.14-.73v-2z\"></path></svg></span><span class=\"QWOdjf\" jsname=\"CMh1ye\" style=\"display:none\">0</span><span class=\"QWOdjf\" jsname=\"UMpOBe\">喜歡</span><g-snackbar jsaction=\"rcuQ6b:npT2md\" jscontroller=\"TrMQ4c\" jsname=\"uUE2Lb\" jsshadow=\"\" style=\"display:none\"><div aria-live=\"assertive\" class=\"tYAdEe\" jsname=\"sM5MNb\" style=\"z-index:9001\"><div class=\"FEXCIb\" data-ved=\"2ahUKEwia_d-OzLPrAhXlKqYKHaeHCdQQ4G96BAgBEBo\" jsname=\"Ng57nc\"><div class=\"EA3l1b\"><div class=\"Xb004\" jsslot=\"\"><span class=\"awHmMb xy0YY\">感謝您提供寶貴意見！</span></div></div></div></div></g-snackbar><g-snackbar jsaction=\"rcuQ6b:npT2md\" jscontroller=\"TrMQ4c\" jsname=\"dGdlCd\" jsshadow=\"\" style=\"display:none\"><div aria-live=\"assertive\" class=\"tYAdEe\" jsname=\"sM5MNb\" style=\"z-index:9001\"><div class=\"FEXCIb\" data-ved=\"2ahUKEwia_d-OzLPrAhXlKqYKHaeHCdQQ4G96BAgBEBs\" jsname=\"Ng57nc\"><div class=\"EA3l1b\"><div class=\"Xb004\" jsslot=\"\"><span class=\"awHmMb xy0YY\">發生問題，請再試一次。</span></div></div></div></div></g-snackbar></button></div></div></div>"
     },
     "metadata": {},
     "execution_count": 15
    }
   ],
   "source": [
    "tmp[0]"
   ]
  },
  {
   "cell_type": "code",
   "execution_count": 16,
   "metadata": {},
   "outputs": [
    {
     "output_type": "execute_result",
     "data": {
      "text/plain": "['Yitine Hange',\n 'wallace yang',\n '張敏瓊',\n '何良容',\n '紙上談餅',\n '北有涼城',\n '夜泊秦淮',\n '臥龍坡',\n '草莓味萌軟妹子耶',\n '林月秀']"
     },
     "metadata": {},
     "execution_count": 16
    }
   ],
   "source": [
    "[i.text for i in soup_coment.find_all('div', class_=\"TSUbDb\")]"
   ]
  },
  {
   "cell_type": "code",
   "execution_count": 17,
   "metadata": {},
   "outputs": [
    {
     "output_type": "execute_result",
     "data": {
      "text/plain": "['0', '0', '0', '0', '1', '0', '0', '0', '0', '0']"
     },
     "metadata": {},
     "execution_count": 17
    }
   ],
   "source": [
    "[i.text for i in soup_coment.find_all('span', jsname=\"CMh1ye\")] # 評論案讚數"
   ]
  },
  {
   "cell_type": "code",
   "execution_count": 18,
   "metadata": {},
   "outputs": [
    {
     "output_type": "execute_result",
     "data": {
      "text/plain": "['海芋季非常推薦一定要來！！！（不建議假日 塞爆）空氣清新  風景宜人 ，超適合帶二寶來放電價格也不貴',\n '大屯山階梯很長，要走上去有累。但無敵美景會讓你忘記了辛苦。值了...',\n '雙北近郊的國家公園，有超多步道可以走，且規劃良好，停車方便，風景美不勝收，只是假日人潮太多，要注意交通管制，可以多利用大眾運輸工具',\n '這是一個遠足的好地方。風景令人嘆為觀止。如果你不喜歡人群，就不要在周末和國慶假期來。如果下雨，就不要去：你會渾身濕透的。因為風很大，傘撐不了多久！享受！',\n '做為台北市的國家公園當之無愧，有著許多綠意盎然的步道，空氣品質好，蟲鳴鳥叫，遠離塵囂療癒身心，真的是台北的寶山',\n '我們租了一輛車去那裡，並且很幸運地可以在漫長的假期開始前進行参觀。我們的司機告訴我們，節假日期間會有交通管制，所以我們可能不能進入。由於已經是櫻花盛開的季節，這裏擠滿了遊客，但我們仍然很喜歡這個地方，很享受這裏的好天氣。',\n '幸好台灣的朋友帶我們去陽明山，碰巧遇上茶花展，各式各樣的花，美得令眼睛發亮，頭一次看到這麼多又美的茶花，還有鬱金香，風信子⋯',\n '陽明山位於台北，山上有唔少靚景，花季時更會百花齊開。因為火山原因，依度亦形成地熱湖同硫酸谷依兩個特別景點。',\n '好逛，當地的花季不能不去看看，一年四季有著不同的風格，整座陽明山值得遊客花著一個星期來做旅遊規劃，勤天崗、竹子湖、文化大學、特色咖啡廳...等，不要再跟團請自己來遊玩，租個機車汽車慢慢欣賞整條路的風光',\n '油綠綠的大草原，看的到風在跑，風吹雲動，地上的光影也跟著移動，像調皮光腳丫的孩子滿山跑，風拂過綠草，拂過樹梢，心兒也跟著輕飄飄，樂逍遙🤭']"
     },
     "metadata": {},
     "execution_count": 18
    }
   ],
   "source": [
    "[i.text for i in soup_coment.find_all('span', jscontroller=\"P7L8k\")] # 評論案讚數"
   ]
  },
  {
   "cell_type": "code",
   "execution_count": 19,
   "metadata": {},
   "outputs": [
    {
     "output_type": "execute_result",
     "data": {
      "text/plain": "['3 天前',\n '1 週前',\n '1 週前',\n '1 週前',\n '3 週前',\n '1 個月前',\n '4 週前',\n '3 週前',\n '3 週前',\n '3 週前']"
     },
     "metadata": {},
     "execution_count": 19
    }
   ],
   "source": [
    "[i.text for i in soup_coment.find_all('span', class_=\"dehysf\")]"
   ]
  },
  {
   "cell_type": "code",
   "execution_count": 20,
   "metadata": {},
   "outputs": [
    {
     "output_type": "execute_result",
     "data": {
      "text/plain": "['5.0', '4.0', '5.0', '4.0', '5.0', '4.0', '5.0', '4.0', '5.0', '4.0']"
     },
     "metadata": {},
     "execution_count": 20
    }
   ],
   "source": [
    "[i['aria-label'][3:6] for i in soup_coment.find_all('span', class_=\"Fam1ne EBe2gf\")]"
   ]
  },
  {
   "cell_type": "code",
   "execution_count": 74,
   "metadata": {},
   "outputs": [
    {
     "output_type": "execute_result",
     "data": {
      "text/plain": "['https://www.google.com/maps/contrib/114962840696865089902?hl=zh-Hant-TW&sa=X&ved=2ahUKEwiz4rDV4qbrAhXXyYsBHfORBr8QvvQBegQIARAV',\n 'https://www.google.com/maps/contrib/105068324802608402315?hl=zh-Hant-TW&sa=X&ved=2ahUKEwiz4rDV4qbrAhXXyYsBHfORBr8QvvQBegQIARAe',\n 'https://www.google.com/maps/contrib/114563997494302504268?hl=zh-Hant-TW&sa=X&ved=2ahUKEwiz4rDV4qbrAhXXyYsBHfORBr8QvvQBegQIARAn',\n 'https://www.google.com/maps/contrib/115192736069800710885?hl=zh-Hant-TW&sa=X&ved=2ahUKEwiz4rDV4qbrAhXXyYsBHfORBr8QvvQBegQIARAw',\n 'https://www.google.com/maps/contrib/115868470606340691124?hl=zh-Hant-TW&sa=X&ved=2ahUKEwiz4rDV4qbrAhXXyYsBHfORBr8QvvQBegQIARA4',\n 'https://www.google.com/maps/contrib/101567502028557646758?hl=zh-Hant-TW&sa=X&ved=2ahUKEwiz4rDV4qbrAhXXyYsBHfORBr8QvvQBegQIARBB',\n 'https://www.google.com/maps/contrib/116055145247201351700?hl=zh-Hant-TW&sa=X&ved=2ahUKEwiz4rDV4qbrAhXXyYsBHfORBr8QvvQBegQIARBJ',\n 'https://www.google.com/maps/contrib/105672346162619420300?hl=zh-Hant-TW&sa=X&ved=2ahUKEwiz4rDV4qbrAhXXyYsBHfORBr8QvvQBegQIARBR',\n 'https://www.google.com/maps/contrib/106635807789696237573?hl=zh-Hant-TW&sa=X&ved=2ahUKEwiz4rDV4qbrAhXXyYsBHfORBr8QvvQBegQIARBZ',\n 'https://www.google.com/maps/contrib/105416365347529585743?hl=zh-Hant-TW&sa=X&ved=2ahUKEwiz4rDV4qbrAhXXyYsBHfORBr8QvvQBegQIARBh']"
     },
     "metadata": {},
     "execution_count": 74
    }
   ],
   "source": [
    "[i.a['href'] for i in soup_coment.find_all('div', class_=\"TSUbDb\")] # 評論者頁面"
   ]
  },
  {
   "cell_type": "code",
   "execution_count": 76,
   "metadata": {},
   "outputs": [
    {
     "output_type": "execute_result",
     "data": {
      "text/plain": "[True, True, False, False, False, True, False, False, False, False]"
     },
     "metadata": {},
     "execution_count": 76
    }
   ],
   "source": [
    "[(i.text.find('在地嚮導')!=-1) for i in soup_coment.find_all('div', jscontroller=\"e6Mltc\")]"
   ]
  },
  {
   "cell_type": "code",
   "execution_count": 21,
   "metadata": {},
   "outputs": [],
   "source": [
    "a = [i.text for i in soup_coment.find_all('div', class_=\"TSUbDb\")]\n",
    "b = [(i.text.find('在地嚮導')!=-1) for i in soup_coment.find_all('div', jscontroller=\"e6Mltc\")]\n",
    "c = [i.text for i in soup_coment.find_all('span', jscontroller=\"P7L8k\")] # 評論案讚數"
   ]
  },
  {
   "cell_type": "code",
   "execution_count": 22,
   "metadata": {},
   "outputs": [
    {
     "output_type": "execute_result",
     "data": {
      "text/plain": "[('Yitine Hange', False, '海芋季非常推薦一定要來！！！（不建議假日 塞爆）空氣清新  風景宜人 ，超適合帶二寶來放電價格也不貴'),\n ('wallace yang', True, '大屯山階梯很長，要走上去有累。但無敵美景會讓你忘記了辛苦。值了...'),\n ('張敏瓊',\n  True,\n  '雙北近郊的國家公園，有超多步道可以走，且規劃良好，停車方便，風景美不勝收，只是假日人潮太多，要注意交通管制，可以多利用大眾運輸工具'),\n ('何良容',\n  False,\n  '這是一個遠足的好地方。風景令人嘆為觀止。如果你不喜歡人群，就不要在周末和國慶假期來。如果下雨，就不要去：你會渾身濕透的。因為風很大，傘撐不了多久！享受！'),\n ('紙上談餅', True, '做為台北市的國家公園當之無愧，有著許多綠意盎然的步道，空氣品質好，蟲鳴鳥叫，遠離塵囂療癒身心，真的是台北的寶山'),\n ('北有涼城',\n  False,\n  '我們租了一輛車去那裡，並且很幸運地可以在漫長的假期開始前進行参觀。我們的司機告訴我們，節假日期間會有交通管制，所以我們可能不能進入。由於已經是櫻花盛開的季節，這裏擠滿了遊客，但我們仍然很喜歡這個地方，很享受這裏的好天氣。'),\n ('夜泊秦淮',\n  False,\n  '幸好台灣的朋友帶我們去陽明山，碰巧遇上茶花展，各式各樣的花，美得令眼睛發亮，頭一次看到這麼多又美的茶花，還有鬱金香，風信子⋯'),\n ('臥龍坡', False, '陽明山位於台北，山上有唔少靚景，花季時更會百花齊開。因為火山原因，依度亦形成地熱湖同硫酸谷依兩個特別景點。'),\n ('草莓味萌軟妹子耶',\n  False,\n  '好逛，當地的花季不能不去看看，一年四季有著不同的風格，整座陽明山值得遊客花著一個星期來做旅遊規劃，勤天崗、竹子湖、文化大學、特色咖啡廳...等，不要再跟團請自己來遊玩，租個機車汽車慢慢欣賞整條路的風光'),\n ('林月秀',\n  True,\n  '油綠綠的大草原，看的到風在跑，風吹雲動，地上的光影也跟著移動，像調皮光腳丫的孩子滿山跑，風拂過綠草，拂過樹梢，心兒也跟著輕飄飄，樂逍遙🤭')]"
     },
     "metadata": {},
     "execution_count": 22
    }
   ],
   "source": [
    "list(zip(a,b,c))"
   ]
  },
  {
   "cell_type": "markdown",
   "metadata": {},
   "source": [
    "### 測試 start index 為 0"
   ]
  },
  {
   "cell_type": "code",
   "execution_count": 48,
   "metadata": {},
   "outputs": [],
   "source": [
    "api_url = get_api_url(0, fid=feature_id, ei=ei)"
   ]
  },
  {
   "cell_type": "code",
   "execution_count": 51,
   "metadata": {
    "scrolled": true,
    "tags": []
   },
   "outputs": [
    {
     "output_type": "stream",
     "name": "stdout",
     "text": "success!\n"
    },
    {
     "output_type": "execute_result",
     "data": {
      "text/plain": "[]"
     },
     "metadata": {},
     "execution_count": 51
    }
   ],
   "source": [
    "get_comment(api_url)"
   ]
  },
  {
   "cell_type": "markdown",
   "metadata": {},
   "source": [
    "### 測試 start index 為 9\n",
    "\n",
    "可以看到首個(index=9)，為上面的最後一個，可以知道在 url 此 api 可以由 start_index 決定回傳的首個評論。"
   ]
  },
  {
   "cell_type": "code",
   "execution_count": 37,
   "metadata": {},
   "outputs": [],
   "source": [
    "api_url = get_api_url(9, fid=feature_id, ei=ei)"
   ]
  },
  {
   "cell_type": "code",
   "execution_count": 38,
   "metadata": {
    "scrolled": false
   },
   "outputs": [
    {
     "name": "stdout",
     "output_type": "stream",
     "text": [
      "success!\n"
     ]
    },
    {
     "data": {
      "text/plain": [
       "['2019/12/08再度走訪台東濱海的八仙洞，才知道八仙洞原來是舊石器時代遺址，印象還停留在二十年前恐怖的神壇洞⋯⋯原來台東縣政府花了很多年的時間請走佔據八仙洞的神祇，逐步收回考古遺跡⋯目前還在維修中！待重新開放時，定要再訪潮音洞！細細聆聽八仙洞澎湃的自然音～',\n",
       " '路過值得下車走一趟，有小小風景及可聽到浪濤的回音，很特別',\n",
       " '目前只有靈巖洞開放，上面的海蝕洞都應步道整修不開放，十分可惜，只能來這聽海哭的聲音了',\n",
       " '自然風景及歷史古蹟的景點，適合小朋友及年長者踏青旅遊的地方。',\n",
       " '有些地方因為有安全疑慮封起來 但這是很有歷史意義的遺址 推薦大家來這裡走走',\n",
       " '2019.10.12目前步道封閉了，海蝕洞也因落石而封閉入口，不知何時會修好。全台灣最大、最壯闊的海蝕洞。 ⋯⋯更多2019.10.12目前步道封閉了，海蝕洞也因落石而封閉入口，不知何時會修好。全台灣最大、最壯闊的海蝕洞。「小帖步」1. 有停車場，要付費，但不貴，小客車30元，大客車100元。停車場有上下兩座，我通常都停下面、商店街前面那座，但位置不多，大概總共二十個車位、兩排而已，且是死巷，動線不好通行，所以人多時可能只能停上面那座。2. 八仙洞應該有八個，但登山步道最近因落石而在整修，入口被封住了，不過最大的那個靈石洞還可以接近、參觀，只是入口處也因落石而被圍起來，以前是可以直接到最裡面的。3. 靈石洞又稱潮音洞，在裡面可以聽到轟隆隆的浪潮回音，建議可以坐下來，感受那視覺與聽覺得以壯麗感。',\n",
       " '登山步道整修，只有靈岩洞可看，其他七仙洞無法看到，可惜。',\n",
       " '2/13去,步道整修只能看到一個洞',\n",
       " '目前景點都在修繕中，但仍收取停車費卻未告知...',\n",
       " '終於把違章雜亂拆光了，值得一遊的天然海蝕洞。']"
      ]
     },
     "execution_count": 38,
     "metadata": {},
     "output_type": "execute_result"
    }
   ],
   "source": [
    "get_comment(api_url)"
   ]
  },
  {
   "cell_type": "markdown",
   "metadata": {},
   "source": [
    "### 獲取全部評論\n",
    "因為 google 會移除不當內容，所以得到的評論筆數會與總比數有落差\n",
    "![](https://i.imgur.com/wk00FDm.png)"
   ]
  },
  {
   "cell_type": "code",
   "execution_count": 39,
   "metadata": {},
   "outputs": [
    {
     "name": "stdout",
     "output_type": "stream",
     "text": [
      "2168\n"
     ]
    }
   ],
   "source": [
    "comment_count = int(info_dt['總評論筆數'])\n",
    "crawler_time = int(comment_count/10)+1\n",
    "print(comment_count)"
   ]
  },
  {
   "cell_type": "code",
   "execution_count": 40,
   "metadata": {},
   "outputs": [],
   "source": [
    "comment_result_ls = []\n",
    "for i in range(crawler_time):\n",
    "    idx = i*10\n",
    "    api_url = get_api_url(idx, fid=feature_id, ei=ei)\n",
    "    comment_respond = get_comment(api_url, debug=False)\n",
    "    if comment_respond == ['' for i in range(10)]:\n",
    "        break\n",
    "    comment_result_ls.extend(comment_respond)"
   ]
  },
  {
   "cell_type": "code",
   "execution_count": 41,
   "metadata": {},
   "outputs": [
    {
     "data": {
      "text/plain": [
       "['洞穴收回公有，乾淨多了，但8洞只有1洞可參觀（但不得入內） 其餘因步道修整不得參觀，可惜！',\n",
       " '第二次停留此地,小車停車費25元相對其他景點較為便宜,走上去看海十分愜意,廁所打掃十分清潔 加分.',\n",
       " '跟小時候的八仙洞不一樣把一些神請走，現在去看格外乾淨東西少了許多，個人對這類事情沒意見但因為長年吹海風蠻容易有落石，希望可以好好的整修一下。但遊客好像跟以前比起來少上許多!!!',\n",
       " '所有棧道、洞穴全部封閉，停車場還是照收費60元進去，不知什麼意思，等維修好再開放吧',\n",
       " '海潮洞傳出海浪聲的回音，很適合停車下來子走走了解台灣豐富的史前文明與聽海潮聲放鬆心靈😌',\n",
       " '這是舊石器時代長濱文化的發現地，也是臺灣目前最早的史前文化遺址。唯恐落石傷人，所以在洞外觀看即可，切勿深入。',\n",
       " '因為年久風化，不時會有落石，現已把佛像遷往他處了，不過還是可以欣賞自然景觀',\n",
       " '騎著車，暢遊在台11線，右邊即是蔚藍的太平洋，走在山壁旁，感受著大自然的鬼斧神工，非常舒服，可惜當地政府沒有好好規劃導覽或是舉辦活動促進觀光。',\n",
       " '台灣最早的人類遺址 三萬年前就有人居住 可惜很多區域因為安全考量沒有開放',\n",
       " '2019/12/08再度走訪台東濱海的八仙洞，才知道八仙洞原來是舊石器時代遺址，印象還停留在二十年前恐怖的神壇洞⋯⋯原來台東縣政府花了很多年的時間請走佔據八仙洞的神祇，逐步收回考古遺跡⋯目前還在維修中！待重新開放時，定要再訪潮音洞！細細聆聽八仙洞澎湃的自然音～',\n",
       " '路過值得下車走一趟，有小小風景及可聽到浪濤的回音，很特別',\n",
       " '目前只有靈巖洞開放，上面的海蝕洞都應步道整修不開放，十分可惜，只能來這聽海哭的聲音了',\n",
       " '自然風景及歷史古蹟的景點，適合小朋友及年長者踏青旅遊的地方。',\n",
       " '有些地方因為有安全疑慮封起來 但這是很有歷史意義的遺址 推薦大家來這裡走走',\n",
       " '2019.10.12目前步道封閉了，海蝕洞也因落石而封閉入口，不知何時會修好。全台灣最大、最壯闊的海蝕洞。 ⋯⋯更多2019.10.12目前步道封閉了，海蝕洞也因落石而封閉入口，不知何時會修好。全台灣最大、最壯闊的海蝕洞。「小帖步」1. 有停車場，要付費，但不貴，小客車30元，大客車100元。停車場有上下兩座，我通常都停下面、商店街前面那座，但位置不多，大概總共二十個車位、兩排而已，且是死巷，動線不好通行，所以人多時可能只能停上面那座。2. 八仙洞應該有八個，但登山步道最近因落石而在整修，入口被封住了，不過最大的那個靈石洞還可以接近、參觀，只是入口處也因落石而被圍起來，以前是可以直接到最裡面的。3. 靈石洞又稱潮音洞，在裡面可以聽到轟隆隆的浪潮回音，建議可以坐下來，感受那視覺與聽覺得以壯麗感。',\n",
       " '登山步道整修，只有靈岩洞可看，其他七仙洞無法看到，可惜。',\n",
       " '2/13去,步道整修只能看到一個洞',\n",
       " '目前景點都在修繕中，但仍收取停車費卻未告知...',\n",
       " '終於把違章雜亂拆光了，值得一遊的天然海蝕洞。',\n",
       " '目前登山步道因腐蝕而封閉! 無法登山觀賞所有的洞穴!',\n",
       " '上面的洞穴因為步道損壞而關閉，一定要再安排一個時間再來看一次，對面的海景也很漂亮',\n",
       " '因為落石不能進去，從洞口聽得到海浪聲，不錯',\n",
       " '有猴子，有阿北餵食猴子。他帶著一袋水果，放在地上。然後很有默契地退開。過一陣子猴子就會偷偷摸摸地前來取食。 ⋯⋯更多有猴子，有阿北餵食猴子。他帶著一袋水果，放在地上。然後很有默契地退開。過一陣子猴子就會偷偷摸摸地前來取食。猴子非常怕人，遠處觀察猴子的行動頗富趣味。長濱鄉的八仙洞以兼具地質景觀與史前遺址聞名，擁有獨特的海蝕洞景觀，也是迄今臺灣最古老的史前文化──長濱文化的遺址之一，屬於舊石器時代先陶文化，遺存文物以打剝法製造而成的礫石為大宗，根據碳十四檢測，其年代距今約三萬年前左右，被列為國家一級古蹟，是臺東縣位置最北端的大型遊憩景點。八仙洞位在臺東縣長濱鄉三間村一座面海的峭壁上，自然形成的十數個海蝕洞穴，因八仙過海傳說而得名。這些洞穴原本在海面上，經過東海岸地殼陸升作用，加上海浪沖蝕，岩壁較鬆軟的部份被侵蝕形成洞穴。各個海蝕洞穴均設有環狀木棧步道可以通往，其中最大的洞穴是靈岩洞，屬於直立型海蝕洞穴，目前仍在繼續增高中。離地面最高的是崑崙洞，高度有130公尺；其他還有乾元洞、朝宸洞、海雷洞、潮音洞、永安洞、水簾洞等。由於洞穴在被發現為史前文化之前，多半開闢為神壇，因此洞穴名帶有濃厚宗教色彩。',\n",
       " '許多棧道洞穴已經被封閉 ，不過可以在此稍微休息',\n",
       " '目前無法爬上去，樓梯有危險的疑慮，不開放',\n",
       " '史前遺跡，樸拙原始的美，加上前方無敵海景。',\n",
       " '可惜東管處己列為古蹟或維護暫不開放',\n",
       " '因石壁可能崩落而封鎖的景點 ，若需要方便可到遊客中心旁的廁所',\n",
       " '很可惜步道因顧及遊客安全封閉了。',\n",
       " '一開始看到八仙洞的時候會嚇到，感覺有點恐怖',\n",
       " '大自然的岩洞風景.有木棧道雖一些已腐朽失修不能到最高.但登高後能看到更廣闊的太平洋及海岸線.真的心曠神怡.夏天吹拂著海風很舒服',\n",
       " '現在只能看到一個洞（靈岩洞）其他都看不到  有停車場🅿️但要收費（雙十連假沒收費）附近有幾個雜貨店可以逛 ⋯⋯更多現在只能看到一個洞（靈岩洞）其他都看不到  有停車場🅿️但要收費（雙十連假沒收費）附近有幾個雜貨店可以逛洞口的景觀非常壯麗漂亮，希望能趕快整修好，期待下次能爬上去看其他洞🙏',\n",
       " '整修中樓梯上不去，有點可惜。',\n",
       " '八仙雖已遷往別處，但可前往爬山，也有椅子可坐，是個不錯的地方。',\n",
       " '民國57年由台灣大學宋勳教授與地質學家林朝棨教授率領考古隊，發現台灣第一個舊石器時代文化，又命名為長濱文化。 位於東部海岸中點，由於陡峭直上百餘公尺，氣勢壯麗，岩壁上散布許多海蝕洞穴，地景特殊，是台灣最早的史前文化在此發現。',\n",
       " '很特殊的地方值得到訪 風景佳又是史前遺址 不過往上的步道最近正在整理',\n",
       " '位置靠台東北部,是年代久遠的海蝕景觀,附近似乎沒有很好的規劃,雖是知名景點,但除非是團體旅遊,否則個人大概是不會再來吧',\n",
       " '到下個行程時經過的景點，來走走看看海看看天然景觀還不錯，但石頭小橋因快斷裂不能走，靈巖洞也因為落石封閉，攤販可能規劃的更好些。',\n",
       " '台11線上旅人的休息站，對面的海灘在風浪大時非常的壯觀。',\n",
       " '風景漂亮 有山有海 有好幾個個洞窟 台東知名景點 男.女代表作(男~石雨傘.女~八仙洞 )',\n",
       " '台東的景點（八仙洞）目前已封山，被政府開挖考古中，要前往的朋友們請改往別處遊玩，避免枉付停車費',\n",
       " '目前正在遺址規劃整理中原有寺廟均已遷移步道暫時封閉只有靈岩洞跟商店街可以走走',\n",
       " '見證大自然的鬼斧神工與古文物遺跡可惜步道維護中無法走覽完整八仙洞 ⋯⋯更多見證大自然的鬼斧神工與古文物遺跡可惜步道維護中無法走覽完整八仙洞不過停車費也暫時半價折扣可以稍微晃晃的景點',\n",
       " '建議政府單位可多再改善與規劃，如景觀設施與攤販。',\n",
       " '國家級的 重要文化資產 主管機關要 加強維護',\n",
       " '⭐️歷史遺跡⭐️來上一下地理歷史課吧！',\n",
       " '延著步道走一圈，運動量已足夠，風景特殊，視野遼闊',\n",
       " '先人遺址，最近因步道損壞整修中。',\n",
       " '八仙洞風景区，以前的一些神明已經被移走了，也可以到八仙洞風景區走走，可到涼亭坐坐喝杯茶，看看海边喔！',\n",
       " '假日人車多，環境清優，適合親子遊。',\n",
       " '八仙洞！位於南台灣台東往花蓮美妙的海岸線！名為八仙洞 必因八仙而其名=美麗而妙不可言～😍😍😍給5顆星！！！',\n",
       " '雖是走馬看花但確也增長見識',\n",
       " '跟以前很不一樣 環境很漂亮',\n",
       " '的確為著名歷史景點，然而規模做的不夠好，既然為全亞洲重要的發現，應學學外國包裝景點才可提升觀光品質',\n",
       " '最近整修中，停車費半價（小型車30元）但沒什麼東西可看⋯',\n",
       " '管理中心的人員說，因爲有落石，所以不能進去參觀，從台東開2小時車，只能在門口看，心情很差',\n",
       " '很特別的景色，可稍作休息',\n",
       " '正在整修，只有下層的山洞可看，遊客中心有展覽可更了解長濱文化。',\n",
       " '目前有大部分設計都在維護中，所以在去之前請上官網查詢',\n",
       " '佛像都沒有了，感覺比較冷清，但是有步道和看海還蠻酷的',\n",
       " '維修中，洞穴圍起來，沒有東西可看',\n",
       " '目前沒開放進入，只能在外參觀',\n",
       " '位於台東長濱鄉，花崗岩地質形成大小不一的岩洞，是台灣最早人類居住的地方。沿山有環山步道，時間許可上下40分鐘左右',\n",
       " '八仙洞最近在整理和修繕,所以很多地方都不能走上去看的,只有第1個洞可以看到,當地的店家說這個要做到年底才會弄到好要看要到年底才去看美景',\n",
       " '離海岸很遠聽不到的海浪聲，站在洞口可以聽到，很奇妙。',\n",
       " '到比燈塔更高的制高點 …  蠻刺激的 …也需要體力',\n",
       " '山靈水秀的地方，台灣人總有辦法把它搞個什麼小廟來祭拜什麼，並且把它搞的髒亂的感覺，很會破壞景觀～',\n",
       " '風景很漂亮，可惜當天風太大，沒有去對面',\n",
       " '原以為就是一個山洞，結果卻是一個遺跡，本以為可以進去看看的也因爲維護而無法進入有些可惜',\n",
       " '國家級史前遺址，風景優美',\n",
       " '已有重新規劃，環境不錯',\n",
       " '全部洞都封閉卻無在外公告，依舊收停車費讓遊客入內。',\n",
       " '目前整修中，神仙都不在家了，還要停車費30元',\n",
       " '台東長濱鄉的八仙洞以兼具地質景觀與史前遺址聞名，擁有獨特的海蝕洞景觀，也是迄今臺灣最古老的史前文化──長濱文化的遺址之一，屬於舊石器時代先陶文化，遺存文物以打剝法製造而成的礫石為大宗，根據碳十四檢測，其年代距今約三萬年前左右，被列為國家一級古蹟，是臺東縣位置最北端的大型遊憩景點。',\n",
       " '整修中，步道無法走太遠，看不到洞穴景色，唯一只能看靈岩洞。',\n",
       " '去年就曾造訪，但因當時施工無法參觀，今年再次前往，仍遇施工/遷徙狀況，建議有意前往者先行電訪了解',\n",
       " '很久沒來了，上次像廟前的廣場，現在是史前文化遺址園區',\n",
       " '台灣最早有人類活動的地點--長濱文化，站在洞口聽得到海風通過風洞的聲音，不知道怎麼形容，像大海的吼聲',\n",
       " '歷史景點，這一次是路過，進去看看的，但沒有深入瞭解，等下次。',\n",
       " '大自然的美   往上走步道小心腳會抖',\n",
       " '步道之前損壞不知是否修好,登高遠眺太平洋超棒的景致',\n",
       " '三萬年前就有海上的新居民居住於海蝕洞，最近的也有三至六百年前，很難想到與南島語系民族搭在一起。',\n",
       " '台灣特有的海景，雖然小頗有可看性，值得推薦。',\n",
       " '以前的人沒有手機怎麼過日子',\n",
       " '整修中，很可惜！很多地方都拉黃線，不能進入……',\n",
       " '古老的地質變化，後人的穿鑿附會憑空想像，造就了這處景點。大自然的鬼斧神工，形成多個令人讚歎的洞穴，可惜來的時候只看到靈岩洞，以為園區正在整修。據說七月份就會完工開放，大家有點耐心，對面就是一望無際的太平洋，視野很棒。',\n",
       " '上面的步道在整修，沒能爬上去看景色，可惜，站在洞口可以聽到遠處海浪拍打的聲音，很有趣，在課本看了那麼多年第一次來這裡看遺址，挺不賴的，這裡不熱，中午吃飽過後可以散步的地方',\n",
       " '這次走訪很可惜，還在裝潢中，沒有開放很多洞區。花錢停車，只走了一個洞穴又沒有神尊在內，走沒15分鐘就離開了！期待未來的新樣貌～',\n",
       " '廟都不廟，古蹟也不是古蹟，整個像是一個工地，跟以前差的好多.',\n",
       " '滿不錯的但佛像以移走了',\n",
       " '這個地方政府已經停止對外開放參觀',\n",
       " '很懷念我的故鄉 但 很多地方都沒了',\n",
       " '可惜此次前去有部分整修，沒辦法一窺全貌，但為長濱文化遺址賦予此地重大人類文化發展意義，值得細細觀賞',\n",
       " '整理過後，還古跡原貌，山上還有地方待開發。',\n",
       " '沒有景觀，只有商家，不推薦',\n",
       " '颱風過後遊客不多，舒適，但海水太混濁',\n",
       " '因考量環境受風災及地震影響入園參觀景點有限及封閉，但管理員在入口處未設置告知仍正常收取入園費著實觀感不佳，近期要前往參訪遊客請斟酌，入園僅能上上廁所晃晃商店街及其他無料步道',\n",
       " '八仙洞附近的台11線海岸公路超美',\n",
       " '八仙洞是大自然的鬼斧神工長濱文化 另人新奇 ⋯⋯更多八仙洞是大自然的鬼斧神工長濱文化 另人新奇可惜的是 洞口正在整修中無法入內參觀著實感到 有些厄捥',\n",
       " '古文明的文化保護地，更是台灣道教的發源地。',\n",
       " '八仙洞有五個封閉整修 沒法子好好參觀，下次再來吧',\n",
       " '因安全考量，目前無法進入洞內，只能在外看看，有點可惜',\n",
       " '鬼斧神工，108年7月以前主要步道維修不開放，只有一個洞開放，八仙過海，七仙睡過頭⋯⋯不打緊，停車費半價，還能接受，不至於有被騙感。值得一遊',\n",
       " '古石器時代的遺跡，可以走走看看聊解一下。',\n",
       " '地震造成落石因素，暫時封閉了大部分區域維護中，僅剩一處可觀賞，且無法靠近',\n",
       " '沒什麼整理，有點可惜',\n",
       " '整修工程，大老遠一趟跑來，不能遊走古蹟，實有遺憾',\n",
       " '看到先民的遺址，感慨宇宙的變化無常，多少萬年以前，台灣應該是和大陸相連的吧!',\n",
       " '幾萬年前，原始人在這些山洞裡居住，目前已挖出許多遺蹟，來看看吧！在密閉的山洞裡竟然聽得到超大的海浪聲，太神奇了，有空帶小朋友來，跟水往上流一樣神奇',\n",
       " '正在整修什麼都沒看到，以前看過覺得這個景點很值得看',\n",
       " '真的有爛，維修不開放也不說明，停車場收費完才說維修中，進去只能上廁所跟逛商店',\n",
       " '多處封鎖只能暫時參觀步道及洞穴外部。',\n",
       " '很美 空氣很好 海水很藍',\n",
       " '自然遺址不應收費。',\n",
       " '到7/6都在整修喔 現在只看得到靈岩洞，要來前先打電話確認一下比較好',\n",
       " '國中時去了一次，去年又去了一次，感覺風景不再，且階梯有些殘破不勘，而且還有正在進行考古探勘，剛要往上走去時，中途就被阻斷了。',\n",
       " '與二十多年前景觀，大不相同。',\n",
       " '整修中！也不告知！還收停車場費！結果只能看一個洞',\n",
       " '看看曾經海水淹過的紀錄',\n",
       " '8個洞全程走完，神凊氣爽',\n",
       " '整休內部，門票30元',\n",
       " '一邊是充滿歷史的洞穴，一邊是一望無際的太平洋。',\n",
       " '台灣最早有人類遺蹟的地方。',\n",
       " '進去才發現只開放一個洞...停車收費人員也沒告知直接收錢，感覺很差安全問題封閉可以理解，但是請先告知',\n",
       " '千百年前的海潮沖刷出像是女陰一樣的洞穴，如今還可以聽見海潮的聲音，這裡也是地質研究的好地方。',\n",
       " '八仙洞裏無八仙，只有些些的碎石而已，半山供奉的幾尊佛是否能聽見世人的願我不知道，它身畔棧道上窩的傷貓還在流淚！',\n",
       " '往上走的路未開放',\n",
       " '整修工程進行，無法進入',\n",
       " '山海之美，懷古之情，可惜還在整修(至108.7)。',\n",
       " '自然海蝕景觀，要參觀完8個仙洞需要爬一段階梯。2019.5.3前往時，因為地震落石，各洞都封閉整修中，建議先確認有無開放再前往。',\n",
       " '史前遺跡，如果沒興趣的會無聊',\n",
       " '雄偉的自然洞穴，富含歷史意義。',\n",
       " '開車子已經都進入停車場了走到洞口 才標示都禁止進入了， 我們開車子進入還跟我們收取停車費， 實在還沒道理',\n",
       " '木棧道下雨天不開放',\n",
       " '第一洞的菩薩已遷移，因地震關係地層有變動，但好是很好的地方',\n",
       " '到的時間剛好在修復整理中，到園區停車要費用(小客車30元/日)，八仙洞的遊客中心，有化粧室，餐廳有供餐服務，停留時間約1小時內。',\n",
       " '整修中只開放一個洞穴，因地震安全因素，沒有一個洞穴可以看…',\n",
       " '風景美，但可惜只看到第一個洞其他洞無法看到，好像再維修中，但真正理由不清楚。',\n",
       " '很有台灣歷史古蹟保存，風景優美 放鬆身心清',\n",
       " '1080430-很值得去，不過要等全面開放再去預計年底才會全部步道都開放',\n",
       " '很棒的地質景點、古文明考察區。海浪侵蝕，讓一個個的海蝕洞相繼出現，而兩大板塊的擠壓，造就海岸高度不斷提升，海蝕洞也一個個高出水面，因而被完整保存。台灣的舊石器文明也悄悄在此展開。 ⋯⋯更多很棒的地質景點、古文明考察區。海浪侵蝕，讓一個個的海蝕洞相繼出現，而兩大板塊的擠壓，造就海岸高度不斷提升，海蝕洞也一個個高出水面，因而被完整保存。台灣的舊石器文明也悄悄在此展開。近看海蝕洞(靈岩洞)，會驚嘆大自然的鬼斧神工，更驚訝於人類如此渺小。台東縣政府很有誠意，原本收費的園區，在部分步道整修期間不收費。參觀此處，雖有遺憾，卻不會嘔氣。',\n",
       " '多年前來洞裡都是佛像，蓮花扶手，現在自然多了，不過洞口上方還是留有「靈岩洞」等字沒被抹去..',\n",
       " '其實是很不錯的景點,只是去的時候剛好在施工,很可惜沒看到什麼東西',\n",
       " '散步賞景很不錯',\n",
       " '沒辦法上去了唷！',\n",
       " '來訪時剛好在整修步道，相信整修完成後走一走會相當不錯的! 除此以外旁邊簡短步道也是欣賞山嵐海水的好地方。',\n",
       " '遵守告示牌 不能進去就不要以身試法',\n",
       " '歴史景觀，遊覽勝地',\n",
       " '在停車時應該吿知全部都在整修進來連一個洞都看不到，很失落',\n",
       " '世外桃源 ，仙人祕境 ，沾一下 仙人的氣息吧！',\n",
       " '部份步道維修，能看的景有限！',\n",
       " '有收費停車場，不難停車但想看的景點都在維修，只能當作上個廁所的休息站大約停留半個小時左右',\n",
       " '可惜現在步道坍方仍在維修，主要的8個洞只能看到兩個，還好最壯觀的靈岩洞是看得到的；是一個有好幾層樓高的大洞，最神奇的是洞穴離海岸明明有好一段距離，確能聽到一陣陣的潮音，著實蠻有神奇的氛圍的。去的時候也有在岩壁樹林上看到野生的獼猴現身。希望步道趕快修好，一定會是個很棒的景點的。',\n",
       " '只有6仙洞，很多都封鎖無法進入',\n",
       " '舒服又療愈',\n",
       " '每年過年都會經過的景點，但是也從小時的記憶以來這是第二次走過去，以為有八個洞可以走走，但只剩下兩個洞可以參觀有點小失望，雖然也沒什麼時間。面海的涼亭是滿漂亮的，在洞裡也能享受海浪的立體音響，是個可以停留一兩個小時的景點，比較可惜的是商店街蠻單調的，也沒有什麼特別的東西可以買，重複性質太高',\n",
       " '覺得滿有特色的一個地方，風景還不錯，小孩沒有興趣但帶小孩走走可以，來台東一定要來的景點吧。',\n",
       " '春節去了一趟，石洞裏的佛像均移往它處，上方窟因落石而封閉，能走的洞穴不多，大自然的奇景很特別，要注意的是，地上有山洞滴下的水，造成路面溼滑，短短五分鐘就看到二位老人家滑倒了，要小心一點。',\n",
       " '2019.03.20步道及靈岩洞都在維修中，聽服務處說要到2019.06後才會再開放。',\n",
       " '觀看路線均封鎖，沒看頭。',\n",
       " '沒有可看的地方，還收門票。',\n",
       " '只能到第一洞，後面五個整修中，今年七八月才會全面開放',\n",
       " '國定考古遺址…八仙洞，位在風景秀麗的台東長濱地區。東部海岸地殼，經海水長期沖蝕，因而形成了海時蝕洞穴的自然景觀，鬼斧神工般似的風貌。史前文化的遺址…是考古學術研究的好教材。洞穴優美的景點，沿途鋪設有棧道、可緩緩拾階而上，草木青翠綠意盎然，有著豐富的生態環境，蟲鳴鳥叫聲不絕於耳。這裡也是臺灣舊文化寶地，被發現後更加以保存與維護，開發為觀光休閒景觀區，宗教團體、遊客皆慕名而來朝聖、遊憩。旅遊中心有整體展示兼具解說，為廣大群眾們服務！',\n",
       " '洞很大很美  有模特兒在前面拍會更漂亮',\n",
       " '正值施工期間沒辦法深入景點',\n",
       " '上天的鬼斧神工，雕琢成日後人們讚嘆的神蹟。洞內也有日日積累而成的鐘乳石；未開化先民住居的場地。巍峨壯觀的山嵐、秀麗浩蕩的海洋，也幻化成八仙過海的神話。',\n",
       " '去的時候剛好遇到維護所以沒進到洞裡',\n",
       " '很多猴子 風景優美 海浪聲源源不絕',\n",
       " '目前維修中，沒什麼好逛的，還要收停車位30元。',\n",
       " '這次來此地沒能再爬上八仙洞上真有點掃興，因為它正在維修，沒關係下次我們再約，我一定還要再來~~朋友喬個時間也去走走吧～真的很漂亮',\n",
       " '近年來地震的原因..無緣登山看八仙洞的美景..讓難得ㄧ趟東海岸之旅的我..深深遺珠之憾😭😭',\n",
       " '只要上牽繩就可以帶寵物進入，只是目前只開放第一個洞，能欣賞的風景不多。',\n",
       " '猴子🐒很多，風景很美，高處望海有開闊的視野',\n",
       " '非常可惜，台東很多景點設備，因為沒有維護，所以無法通行，如：步道等。加油吧！台東',\n",
       " '目前步道維修中，大多數的洞窟無法參觀。因為步道維修的關係，停車費半價（到今年2019/06）。',\n",
       " '很漂亮！可以直接眺望美景，務必要走到高處',\n",
       " '天然的岩洞展現了大自然的神奇，花蓮就是美，可惜因為落石只能看到三個岩洞，但是沿途的美景以值得',\n",
       " '八仙洞只開放1個\"靈岩洞\",土地洞/水濂洞/潮音洞/永安洞/乾元洞/潮辰洞/海雷洞等7個\"仙人閉關修行中\"並沒有開放,難怪遊覽車只停留30分鐘,有\"上當\"的感覺',\n",
       " '2019暑假前登山步道整修，僅能看第一個洞，因此入場的停車清潔費也降低很多，但自然景觀壯麗，仍值得一訪',\n",
       " '整體可看性並不高，當成一個休息的公園還OK。',\n",
       " '109年2月7日下午3:30分左右!靈岩洞內有落石波及到遊客有受傷!（親眼目睹，超恐怖的）這幾天年假有到那裡遊玩的人!請注意一下喔～',\n",
       " '可以讓小朋友暸解',\n",
       " '天然大岩石，可以看到幾千年到幾萬年前的遺跡；可惜去年清除洞內的偶像物之後，登山道還在修復，再給東管處一些時間吧。',\n",
       " '東海岸的必遊景點',\n",
       " '僅剩的五大洞都暫停開放多給的一顆星是給停車場服務人員賣場食物貴，口味…、客人多時服務態度都不好。',\n",
       " '靈岩洞，奇景，目前因地震後有落石無法進入',\n",
       " '遺址~值得觀賞',\n",
       " '有點荒涼.而且要爬很高',\n",
       " '好像沒有什麼好看的',\n",
       " '海浪回音超大聲',\n",
       " '步道都封了不能進去',\n",
       " '6/3去景區正在施工可惜',\n",
       " '步道全都維修中，也不說明，竟然還要收停車費，根本詐騙集團',\n",
       " '八仙洞已沒仙🤔登山步道看起來已長久封閉🚧只能在旁邊走馬看花拍照📷📷📷失望了',\n",
       " '男厠的衛生及教育需加強(馬桶都塞住了)親子厠所的門壞了(關不住)',\n",
       " '很棒的歷史古跡 聽海的好地方',\n",
       " '因為落石吧，所以八仙洞只看到一個：靈岩洞。散散步可以。',\n",
       " '猴子變多了，人潮少了，雖然景色依舊，但總感覺.....',\n",
       " '往上的步道因為維修而封閉，主要的洞穴靈岩洞也因為有落石不能進入',\n",
       " '岩洞非常壯觀，值得一看！！！',\n",
       " '只剩一處開放，有些可惜，前往前先聯繫開放程度以免造成失望',\n",
       " '亂擺設的民間習俗燒香崇拜已經遷移，恢復自然面貌。附近規劃成公園，又面臨太平洋景觀。路過，值得休息一下。',\n",
       " '可能是因為整理中，感覺特色沒經營出來，陳列品也髒髒舊舊的',\n",
       " '2018.11月中去參觀，很可惜正在修築維護洞穴，不然這是一個很美很值得看的景點。註：需要停車費，所以可以先查查是否已維護完成再考慮要不要進去，不然目前僅能看到最下面的一個洞穴而已',\n",
       " '知名景區，但關閉許多仙洞，目前僅兩三個洞可參觀，可惜。',\n",
       " '有山有海又有靈氣',\n",
       " '目前只看得到靈岩洞T-T',\n",
       " '花東海岸11號公路沿路景觀奇特，八仙洞三仙台小野柳各有特色，平時人車稀少可以很悠哉的渡過美好的回憶。',\n",
       " '環境規劃得還不錯',\n",
       " '從第一洞內部往外看 可以看到酷似台灣的洞口',\n",
       " '因為落石都封起來，只剩這個可以在旁邊看',\n",
       " '整修關閉，停車場還半價收費。',\n",
       " '兩年前來 到現在都還沒有開放， 真的感覺到有點失望……',\n",
       " '花東遊玩休息參觀遊玩可順停，都來花東了不訪見識一下吧!但此次來有些地方還在整修中~內有收費停車場•••就有點美中不足',\n",
       " '國中歷史第一課的場景重現在眼前，內心澎湃想像想像數萬年前的舊石器長濱人的生活海蝕洞就是他的別墅 ⋯⋯更多國中歷史第一課的場景重現在眼前，內心澎湃想像想像數萬年前的舊石器長濱人的生活海蝕洞就是他的別墅解說牌介紹清楚如果山上的其他洞也可以開放就好了～～',\n",
       " '超級美好的地方 ，還有地質的教學',\n",
       " '見證台灣不斷上升海岸離水的證據不過似乎有私人廟宇，不知管理單位是否允許?',\n",
       " '適合短程健行路線!賣場區很多水果及現榨果汁!',\n",
       " '維修到2019年8月才開放喔 所以要去的人要先打電話問問看修好了沒',\n",
       " '很神奇的海蝕洞',\n",
       " '神秘，可以聽到浪聲，像似孕育生命起源的洞，很壯觀',\n",
       " '可以觀察因為板塊的推擠造成的八仙洞',\n",
       " '目前都在整修無法觀看..',\n",
       " '去的時候上面在整修，只有看到一個洞，不過很漂亮',\n",
       " '不用來，還會被開單，不值得。',\n",
       " '附近的攤商雖然變得沒落 但還是值得逛一逛',\n",
       " '雖然還在整修但還是可以小停留拍照打卡，整個景色還是很美很棒~',\n",
       " '探索台灣史跡好地方之一。旁邊就是太平洋海岸，海天一色，風景美。',\n",
       " '不錯的景點，但登高步道已封閉，不建議前往',\n",
       " '只有外圍可以看，進不去了……😭',\n",
       " '風景很美，走在拱橋上面海風吹來很涼爽',\n",
       " '跟幾年前的感覺不一樣了 現在變成沒什麼東西可看 覺得進去浪費錢',\n",
       " '所有的洞都封鎖，不准遊客進入。',\n",
       " '非常有歷史意義 的地方 值得推薦不過現在目前整修中，小客車半價入園假日30元。',\n",
       " '首次造訪，覺得地型景觀特殊，可惜步道封閉至明年年中，只能看最下面的幾個山洞。其中靈岩洞有像馬來西亞黑鬼洞的fu, 且有遺跡展覽。期待下次再訪時能一窺全貌。',\n",
       " '好玩建行在綠蔭下心情清爽',\n",
       " '非常糟糕以前免費！還能登山！現在收費了反而不能登山！封住了',\n",
       " '唉！已經沒有可看的景觀了？',\n",
       " '經過 路過 千萬不要錯過追過 衝過 千萬不要潛越沒過 ⋯⋯更多經過 路過 千萬不要錯過追過 衝過 千萬不要潛越沒過不要亂帶 量力而為',\n",
       " '有整修的公告，具有歷史教育性質，是可以稍微駐足的景點。',\n",
       " '爬到步道可以遠眺太平洋，很棒！',\n",
       " '過年去的時候八個洞只剩一個洞可以看😂',\n",
       " '多處設施施工未開放。',\n",
       " '目前只開放靈岩洞，其他處整修，等暑假後才開放',\n",
       " '目前洞穴坍方無法進入，登山步道也封閉',\n",
       " '超棒的景點，腿要很夠力😄',\n",
       " '因在整修中，可惜點',\n",
       " '歷史悠久，充滿神話',\n",
       " '開車休息的好地方，還有地理景觀，可以走走',\n",
       " '有些步道仍封鎖中，尚未維修好',\n",
       " '風景優美，可惜路線封閉，無法走到其它的地方',\n",
       " '整理過後還不錯，很特別的古跡海蝕洞',\n",
       " '一定要來玩啊',\n",
       " '往上的2～5號洞， 登山步道都封閉了',\n",
       " '整修中 還收停車費 完全無景',\n",
       " '只能看到一個洞所以一顆星',\n",
       " '免費景點，為舊石器時代遺址，值得一來。',\n",
       " '八仙洞被鴨霸又無能的政府弄的已經失去原先美麗羨人的景觀如今只是路邊整理的像公園以外根本沒什麼迷人的景觀盼下任縣長能回護以前的仙境。',\n",
       " '大部分區域因為颱風破壞封閉，很可惜。',\n",
       " '奇岩異石',\n",
       " '莊士儀伐表部落八仙洞遺部區申請書政府民主國家台灣地區現存款帳戶資料庫車保全險箱郵政基金會且標文件734條規定律師彭建華？莊士儀政府民火警察局百萬125.000000臺灣花蓮方法院裡槍戰基本保護且標證據證明府城八家將人員政府民眾藝人文章',\n",
       " '聽濤浪聲音，在洞內，是很平靜的充電中。',\n",
       " '天然景色，特殊地形，知名的景點',\n",
       " '整修中只開放一個洞',\n",
       " '要走一段路，但還是蠻值得的！',\n",
       " '很特別的地景，一定要來走走',\n",
       " '值得去一次的歷史地質教室！',\n",
       " '八仙洞遺址雖然下方佛堂部分已經全部拆除，但是沿步道上行，可達乾元洞，因乾元洞系私產因此得以保全，洞中壁面所顯示的人像更是變換無窮，每人所見不盡相同，洞外風景優美，涼風徐徐，品茶聊天真乃人間樂事。',\n",
       " '發現原民先祖足跡',\n",
       " '八仙洞裡有八個神仙住，分別住在八個山洞哩，要爬山適合年輕人。',\n",
       " '沒看到啥',\n",
       " '海蝕洞穴挺震撼，需要步行爬階。',\n",
       " '步道已經封',\n",
       " '有靈氣 用心去聽',\n",
       " '改善好多的景點 有空沒事 可以多多來看海',\n",
       " '人潮明顯減少，當然僅有三家店家營業，入門需要25元小車停車費',\n",
       " '因缺乏維護已經封洞，可惜!',\n",
       " '很棒，適合走走',\n",
       " '聽~海哭的聲音~',\n",
       " '這是鍛鍊身體的好地方，建議一定要堅持爬到最高點，風景很不錯。這裡有史前文化遺跡，可是解說的不多，而且有些棧板年久失修，要多注意。基本上來說還是觀光的好地點。',\n",
       " '神秘古老可以聽見洞穴反擊的海潮聲相當舒壓',\n",
       " '改變不大，數十年了！',\n",
       " '東海岸休息的好景點',\n",
       " '裡面有一點點小展覽，此外就是單純的山洞了，有點空虛。這個最大的洞在路邊而已，蠻平易近人的，其他還有很多洞要爬一段步道，我懶惰就沒去了。遊客中心有很多印章可以蓋，四顆星有兩顆星是給印章的。',\n",
       " '步道維修沒的看還收費，簡直被騙',\n",
       " '可去看看風景   但別去斜對面的  明（什麼）來的餐廳用餐（專宰店）     切記',\n",
       " '旅遊景點沒有整理相當失望，不清楚觀光局及地方政府推觀光是說假的嗎？',\n",
       " '只有幾個洞窟，經過體會就好',\n",
       " '風景不錯，可惜部份整修中',\n",
       " '岩洞及梯路尚在整修，甚至有猴子搶吃亂抓，沿途參觀需小心',\n",
       " '因為落石，山洞被封了。',\n",
       " '給人有一種世外桃園的感覺',\n",
       " '很棒的地方，下次會再來',\n",
       " '繼國小畢旅之後，33年了……踏上這裡，爬了最頂端',\n",
       " '和多年前不同了，以前還有出家人駐足，現在只是單純的觀光景點。',\n",
       " '爬到喘到不行結果幾乎都封閉了！超級傻眼現在非常不推薦去！',\n",
       " '來台東可以選擇的景點(濱海公路順路) 沿著步道可以陸續看到六個洞 不想爬山的，一定要走到旁邊的靈岩洞',\n",
       " '風景優美，看到石器時代人類居住的洞穴感覺自己在歷史長河中的渺小。',\n",
       " '東部觀光景點，自然力量形成的海蝕洞，不過現今多半在維修，有些可惜',\n",
       " '把洞還原是很好，但希望恢復得更原始會更完美',\n",
       " '因天災封閉一洞，人為宗教擺飾等在乾元洞，反無考古歷史氛圍。此處偶遇獼猴。潮音隨穴壁反射迴盪，可俯視海岸景緻。',\n",
       " '和以前不一樣了，佛像沒了，蕭條很多，人潮也少，停車還收費',\n",
       " '聽海~觀海的好搜在！',\n",
       " '太多沒修復',\n",
       " '非常特殊的海蝕洞穴，爬到最高健身加賞風景，非常棒！',\n",
       " '從地平面的第一個洞，爬上稍陡的步道看到其他的洞，隨著高度增加，映入眼簾的就是湛藍大海！',\n",
       " '沒有好好經營的景點，連8仙都已經移走了！完全沒有人潮，很可惜！偶爾帶小孩去跑跑跳跳還不錯，風景也不錯！',\n",
       " '和以前比起來，乾淨漂亮多了，完全美麗的自然景觀，鬼斧神工。',\n",
       " '感覺除了第一個大洞之外都有點...普通不過後面的舊橋景色還不錯',\n",
       " '步道已封閉沒必要浪費停車費進來',\n",
       " '現半數洞在整修中，不適合參觀 ! 但遠眺太平洋 海景還是很美喔!',\n",
       " '去的時候正在維修',\n",
       " '只有第一個靈犀洞值得看，其他都還好，有的維修中，但步道往下看風景不錯',\n",
       " '看似平凡無奇的洞窟，隱藏了石器時代至今的歷史本文。',\n",
       " '在八仙洞步道上遇到有點兇的猴子而且很多導致許多人到那邊不敢上去 ⋯⋯更多在八仙洞步道上遇到有點兇的猴子而且很多導致許多人到那邊不敢上去步道上面觀海很美崑崙洞在施工',\n",
       " '好可愛的八仙洞哈哈哈',\n",
       " '沒落的觀光景點，純走步道看洞，適合飆汗的地方',\n",
       " '服務中心的池小姐很熱心',\n",
       " '因文物探勘挖掘，所有原來佔據洞穴的宮廟都撤出，留出一個個山洞原型。喜歡它的登山步道尤其在清晨時刻登爬，眺望太平洋海浪拍打沙灘及長長海岸公路之美景。悠閒舒服。',\n",
       " '原來在那邊的廟已經撤掉更有大自然的感覺了',\n",
       " '自然景觀，有步道可瀏覽長濱文化。可惜今天在整修',\n",
       " '目前步道整修中 無法進入參觀',\n",
       " '棧道上的洞窟大多封閉無法參觀',\n",
       " '現在只開放第一個洞，靈岩洞。',\n",
       " '目前還在整理~',\n",
       " '可靜靜的聆聽海的聲音，迴盪在耳.....適合放空，也可漫步',\n",
       " '天氣讚拍到不錯風景，上山走到最高風景不錯，遇到猴子。',\n",
       " '風景悠美，別緻。',\n",
       " '部分步道維修中',\n",
       " '封閉整修根本不能爬啊！！',\n",
       " '這是一個特別的地方，景觀特殊值得一走。很可惜的是洞穴和步道多有毀壞未修，詢問服務中心的工作人員，說是地質鬆軟容易坍方所以無法修復，實在非常可惜，真想完整走走看看。據說原本是個香火鼎盛的地方，但現在都拆除了，變得空空洞洞的很是奇怪，只剩下最高處的第五洞還存留著，雖然有點雜亂，但仍能感受到長久本土宗教的文化足跡，饒富興味。',\n",
       " '十幾年沒來，所有的神都請到最上面了@@',\n",
       " '沒什麼特別的，不用特地來',\n",
       " '地點極好、 園區規劃 有待加強',\n",
       " '平日50停車費，不用門票，半小時路程，有小吃冷飲',\n",
       " '228前往因落石封閉不能通過',\n",
       " '風景漂亮規劃不夠優',\n",
       " '已破損没維護',\n",
       " '可以多辦些活動!',\n",
       " '覺得是個不錯的拍照地點，還蠻好拍的',\n",
       " '政治家裡的確',\n",
       " '大多數洞穴內已空無一物，只剩下其中一座洞內有許多神像，步道沒有在維護，最上方有一段無法再通行，聽說是地質不適合修建，風景不錯可以看到東部海岸，可以當作簡單的小爬山景點。',\n",
       " '聽聞最後潮音洞內的神明祭壇已經移走，特地前往來看，可以發現地上仍有殘留的底漆。從高處步道眺望遠方風景很美，也可欣賞舊石器時代的洞穴的自然造景。樓梯坡度大，如有老年或不便行動膝蓋不好者較不能到高處看其他洞穴，僅能觀賞較低處的洞穴略微可惜。',\n",
       " '裡面的佛像搬遷出去了，失去了靈氣',\n",
       " '在整修 只看到一個',\n",
       " '海蝕洞真的可以聽到太平洋海浪的回音喔！^^',\n",
       " '景美，適合全家到訪',\n",
       " '台灣最古老的長濱文化，壯觀的八仙洞裡卻只用陽春的看板作介紹，可惜了⋯',\n",
       " '個人沒有特別喜歡',\n",
       " '景觀很好，有山有海，有多個大小不一的山洞。腳程不太好的話，還遊不完呢！',\n",
       " '步道整修中 不知完工了沒？',\n",
       " '台灣人類最古老的遺址！',\n",
       " '很可惜風景已和以前不一樣, 路過可在此休息, 欣賞一下風景.',\n",
       " '還好',\n",
       " '美麗景色',\n",
       " '奇妙的地理景觀',\n",
       " '造物奇蹟，見證台灣島從海中升起。',\n",
       " '步道維修中',\n",
       " '木棧道部分長青苔雨後很滑有些腐朽斷裂行走要小心',\n",
       " '步道損毀多處未修護，但靈岩洞值得推薦一看，內有考古台灣史前文化介紹',\n",
       " '保有傳統的洞穴但有很多地方維修中去不了山上還有看到台灣獼猴自然生態保存得非常好',\n",
       " '小小爬山，拜拜，看看歷史由來',\n",
       " '太可惜了只剩一個洞',\n",
       " '不經意經過，不知道台灣有這地方，再度領教了大自然鬼斧神工',\n",
       " '有趣的台灣東岸地貭，值得－遊！',\n",
       " '剛好在維修很多景點不能逛，很可惜',\n",
       " '雖然有比之前清淨許多 但我還是覺得這地方怪怪的',\n",
       " '範圍很廣，沒全部走完。',\n",
       " '此時還未 修理好',\n",
       " '規模遠大於想像中，看到靈岩洞有震撼感，參觀完順便上了地理及歷史課',\n",
       " '去一次就夠了',\n",
       " '鬼斧神工的景點很適合拍照打卡',\n",
       " '目前還在整修中。',\n",
       " '對地質層有興趣就很好，沒興趣的當運動。',\n",
       " '很推薦的地方 走走樓梯運運動 順便還可以欣賞到平常看不見的景觀',\n",
       " '春節暫停收費，人潮眾多，延著步道可遠眺海岸線，美不勝收。步道高處有座八仙廟，可參香，沿途經過好幾座洞穴，渾然天成！',\n",
       " '風景怡人',\n",
       " '原住民登陸台灣的地點',\n",
       " '步道在修很多洞沒看到',\n",
       " '終於恢復一級古蹟應有的風貌，解決幾十年私人宮廟佔用的問題，其實花了縣府這幾年好大的功夫!這才是進步國家的表徵!',\n",
       " '渾然天成的演奏廳，讚佩海的神力，地殼的變動。',\n",
       " '陸地上升與海水侵蝕的結果，進入要付停車清潔費，要全部看完要有體力，因為要走步道上下坡。',\n",
       " '爬上去， 遇到猴子 ，追著我，只好給牠雞肉乾，不吃狗零食的猴子。',\n",
       " '很棒的自然景觀，但整修期卻仍讓遊客收費進入，好幾個洞都無法到達，真糟！',\n",
       " '很棒的地質景觀區！可惜天災造成步道部分損害！希望能有修復的一日。',\n",
       " '因為變身為“考古”重要的遺址，沒什麼所謂的八仙洞了，爬山看海吧！',\n",
       " '地震影響還沒開放',\n",
       " '就四個字鬼斧神工',\n",
       " '開發考古遺跡的關係，不適合遊客了。',\n",
       " '依山傍水 越往上爬  視野越好 只是有洞內燒金紙時沒拆掉橡皮筋 充滿塑膠燃燒臭味',\n",
       " '落石嚴重，暫停開放',\n",
       " '海蝕洞之巨大令人有對大自然的敬畏',\n",
       " '沒往山上爬的話，其實還滿無聊的。',\n",
       " '在整修還要收門票...',\n",
       " '部分景點維修中。',\n",
       " '很多的階梯適合運動，辛苦的爬到上面後就可欣賞無敵海景',\n",
       " '風景悠悠~~自然宜人',\n",
       " '長濱文化的遺跡，目前已經可以追朔到 30000 年前，在像是峭壁的大石頭上，有八個不同高度的石洞，有些很有特色，走完大概需要 40 分鐘，算是了解台灣舊石器時代的好地方。在某些洞當中供奉神明，看起來很突兀，一問之下才知道這些人早在發現遺址之前就佔地為王了，目前政府正在處理這些神明的相關事宜，如果能移走，另外多一些寓教的 program 覺得可以讓來參觀的人更了解這些歷史課本上面沒有琢磨太多的故事。',\n",
       " '全遶一圈約一小時就可完成 整治後廟都趕走了',\n",
       " '三十年前的,經驗地',\n",
       " '在靈岩洞外口居然可以聽到極大且清楚的浪潮聲音，令人驚訝，而整個八仙洞的步道極適合悠閒散步。',\n",
       " '看看也不錯，增加些人文氣息',\n",
       " '大洞本來有寺廟，現在空空蕩蕩的，有些冷清。',\n",
       " '每個洞都有特色，尤其在洞口聽海浪的聲音，超級棒。',\n",
       " '就是有名的長濱史前遺址， 沿著山的 佔地很廣 還有商店街販賣部及特色餐廳等等',\n",
       " '台東縣的山丘，還有海岸線，延途有茫茫大海可看，心況神宜。',\n",
       " '一級古級風景優美還看到許多隻㺅子．',\n",
       " '常常的濱海公路小景點 有餐廳可休息',\n",
       " '我他媽來這裡是為了看原住民文化遺址的!!結果呢 ⋯⋯更多我他媽來這裡是為了看原住民文化遺址的!!結果呢進駐了一堆莫名其妙的神像破壞地質、歷史景觀就算了媽的還營造得有夠世界無敵破爛拼湊出來的鐵皮屋、擺爛不修的步道、莫名突兀的神像、潮音洞大石頭上 用油漆塗粗糙又歪七扭八的佛字、跟背景完全不融入 彼此也不協調的造景、土蓋的屋子、長滿苔癬的木柱完全給人窮酸雜亂 文化侵佔又不協調的印象國家一級古蹟做成這樣我也是醉了幹得不錯啦 幹你娘  凸ˋˇˊ凸',\n",
       " '旅遊點有點空洞',\n",
       " '沿著步道向上走，能一覽東部海岸風光，但洞內有各大宗教的寺廟實為可惜',\n",
       " '步道維修，無法行走',\n",
       " '遠古歷史證物，記錄台灣進化史實，值得參觀，全國僅有。',\n",
       " '八仙洞是破碎共振效應由石頭與浪花 共譜數萬年的戀曲結果',\n",
       " '後人倒是為此地付予了神話般的傳說…不錯不錯！',\n",
       " '本是絕佳的自然美景，確被人為醜陋的宮廟所佔據，實在是很可惜',\n",
       " '維護中',\n",
       " '好像跟以前不太一樣',\n",
       " '據說此地在20年前人潮洶湧，是名勝之地，如今沒有什麼遊客的蹤跡。',\n",
       " '以前的佛像不見了  至少可以走走  上車睡覺 下車尿尿    還不錯',\n",
       " '目前只有一個洞開放',\n",
       " '可以長知識',\n",
       " '很美的海蝕地形  是地科教材的好範本',\n",
       " '有巨大的海蝕洞。目前已開始開挖史前考古遺跡。',\n",
       " '只能遠觀 不勝唏噓',\n",
       " '宗教佔用情形幾十年沒法徹底解決  停車還要收費  平日一旁空位多的是   除非時間太多閒著   進去走走見識什麼叫牛皮    否則在外面照照相就好',\n",
       " '真的呦海浪的回聲呦！',\n",
       " '停車場標誌不明顯(當下沒看到)，路旁都是紅線，就沒下車了，可惜。',\n",
       " '八仙洞附近的海濱，是欣賞海景、夕陽和捕魚情景的好地點。各洞間設有環狀木棧步道相接，沿步道逐洞尋幽，樂趣無窮。',\n",
       " '適合喜歡運動的人，需要一直往上爬樓梯，不過有一個有封住不能靠太近(只爬到第四個，但是真的好累)，雨天要注意安全，下來會腳軟(體力差)',\n",
       " '停車很方便，土地很大，百聞不如一見，歡樂的文化歷史之旅。',\n",
       " '景緻普普',\n",
       " '走走的好地方，以前的海蝕洞因地形抬升而變成現在這樣',\n",
       " '天氣好應該是可以登頂的。',\n",
       " '把廟拆了，留下水泥地基，失去原味又沒特色，非常可惜',\n",
       " '文化遺址卻只看到一堆私設宮廟，不過爬上來看海也是不錯。',\n",
       " '地形景觀，海蝕洞，還有史前文化在其中',\n",
       " '幾個洞而已，人工鑿飾的痕跡清晰可見。',\n",
       " '硬體設施還需要多多規劃。高處風景優美，注意防蚊。',\n",
       " '大自然的力量與造化，令人嘆為觀止。',\n",
       " '整休中，免收停車費，十二月底前會整休完畢',\n",
       " '迄今所知臺灣地區最古老的史前文化遺址',\n",
       " '只剩一個洞……',\n",
       " '海蝕洞，但上面的佛教據點真的讓人覺得怪怪。',\n",
       " '登高望遠，是個體力活，如果不想下面幾個洞看看就好，上面還有一間佛堂，一間八仙廟，記得防蚊液！',\n",
       " '富有歷史文化的地點',\n",
       " '已經公園化。',\n",
       " '整理的相當不錯。',\n",
       " '只有少許步道開放，能看的不多',\n",
       " '有些洞已被私人宮廟佔據，不知道的遊客還會去參拜，可惜了自然景觀之美……',\n",
       " '適合步道運動，不過很多部份在維修中，可以看的點不多。',\n",
       " '感覺數十年如一日...還是看不出特色與重點',\n",
       " '舊景區，沒建設，但爬上去可遠眺海景',\n",
       " '我實在看不出來，那裏長濱跟靜浦文化的發源地；只覺得很多洞穴而已。',\n",
       " '天然洞穴，值得一遊。',\n",
       " '去根本都在看空洞無任何神尊不值得去！',\n",
       " '優美步道',\n",
       " '有部份不開放',\n",
       " '已清除長久霸佔史前遺址的可笑神墰寺廟。',\n",
       " '解說牆放在洞穴旁有點掉漆',\n",
       " '遺蹟保存惋惜了',\n",
       " '超無聊',\n",
       " '沿海風經不錯，但遊客稀少，很多店鋪都無人進駐，形同荒廢。上面那個廟不值得爬那麼多階梯上去看。',\n",
       " '匪夷所思的神像宗廟已經撤掉一大半了，但還有一些還沒撤掉。撤掉的部分中也可以明顯看出當時為了建神像所進行的人為破壞。步道在災害後遲遲未修復，建議在平面參觀而不用上山。',\n",
       " '只有零岩洞壯觀 ，其他還好 ，時間夠可以上步道健康一下（大部分步道在整修',\n",
       " '依循著步道往上走到最高處，可以清楚聽到海浪拍打岸上的聲響，海岸邊的美景儘收眼前，需要有良好的腳力！',\n",
       " '八仙洞也是一處重要史前遺址，曾發現非常豐富的舊石器時代先陶文化，經命名為「長濱文化」',\n",
       " '鬼斧神工，又有美麗的海景真是美不勝收。',\n",
       " '還是喜歡以前一個洞一個廟宇的感覺，至少覺得比較熱鬧，潮音洞的師父已經高齡九十多歲，住在山洞中，實屬難得！',\n",
       " '很棒的地方，也很適合帶小朋友來',\n",
       " '有很多的景點都被破壞了 不過還可以來看看  也算是沿路的一個景點',\n",
       " '從遺址的角度來看是有點可惜，私人廟宇希望能盡快處理，並增加考古的說明深度更好。帶著孩子從課本，到踏查實地想像遠古時代的人如何生存，還是相當有意思。另外登高望遠，觀察地貌還是相當適合。值得推薦。',\n",
       " '環境整理的很好，還在建設，相信以後會更好，路過休息的好地方',\n",
       " '風景區，沒欣賞價值，看看海岸線打發時間。',\n",
       " '這裡是八仙洞遺址、擁有豐富的考古資源、全部洞穴共有十處、可以慢慢聽濤遊憩。洞穴下可以聽見海浪聲近在咫尺。但實際有段距離、很有意思。',\n",
       " '來台東玩可以直接跳過的行程，完全不會想再去第二次，被宗教團體弄的非常髒亂，完全破壞了海蝕洞的自然景觀，加上步道年久失修，許多洞都到不了，想眺望海景也多被樹檔到，辛苦的延者峭壁爬到頂端，眼前等著你的景觀只有失望，除非台東已經去到沒地方可去，否則不建議把時間浪費在這',\n",
       " '喜歡',\n",
       " '台灣第一史前遺址 只收停車費適合帶小孩來場歷史之旅',\n",
       " '只是一個淺淺的山洞',\n",
       " '世界級遺趾',\n",
       " '要有時間與腳力爬行',\n",
       " '我希望看到是地質上的景觀，但是實際看到的是一個個被鋪平上磚的洞穴地板，以及整個被宗教物品覆蓋到只剩一點岩壁的天然洞穴。全程的所有洞穴並未都看到因為後段都在整修無法進入，但前面一小部分能得到的結論就如上述.....再經過時會再試一次，真切希望後面的洞穴能讓我完全改觀',\n",
       " '風災後縣政府只知收停車費不知道積極維修，只剩下幾個洞可看，不是公有地嗎？洞口又被名間寺廟佔有！',\n",
       " '13個洞穴，路很大都是紅線不好停車',\n",
       " '爬到最上面，海景不錯看喔ㄌ',\n",
       " '看台灣的足跡',\n",
       " '台東必來的遺址 對面餐廳超好吃!',\n",
       " '台11線的知名景點。有木棧道可登高，腳程不好的人也有平坦的景點可欣賞。',\n",
       " '古代人住的地方，很壯觀，還有台灣獼猴。',\n",
       " '很棒的地方，適合爬山運動的好地方',\n",
       " '花東地區海岸缐必遊景點之地！',\n",
       " '海蝕洞穴，回歸原始，渾然天成 ，歷史探究',\n",
       " '下午來比較不熱。',\n",
       " '很熱，無海風',\n",
       " '傳說有古人在此生活過,但看不太出來呢,...登高望遠還不錯!',\n",
       " '還不錯的地方，可惜有些洞被一些廟宇給佔用，破壞了遺址的美感，這些私人的東西應該要被移除。',\n",
       " '真的是遺址，上面很多洞都癱了，可惜！',\n",
       " '風景很棒的',\n",
       " '年久未修，還是有一點回憶的。',\n",
       " '可以聽到海風歐',\n",
       " '停車要收費又不負責看管差了點',\n",
       " '神奇的海浪迴響',\n",
       " '補上台灣地理課。',\n",
       " '有歷史的證據',\n",
       " '颱風後造成步道損毀，還未修復，史前遺跡的洞穴被私人宮廟佔據，讓觀光客對這裡的觀感很差。',\n",
       " '目前可以看到考古人員正在開挖跡蹟',\n",
       " '暫時關閉，下次再來',\n",
       " '台灣最久的遺址…三萬年前遺留下來…',\n",
       " '太棒了，終於清空了非法佔據的海蝕洞，一定要好好珍惜，回歸史前遺址樣貎',\n",
       " '歷史古蹟， 也許能夠改變台灣的歷史喔',\n",
       " '洞穴可以聽到海浪拍打聲，很奇特的經驗!',\n",
       " '對地理有興趣的話，這裏是個很具台灣崛起的古蹟',\n",
       " '壯觀美麗的洞穴',\n",
       " '自然景觀很漂亮，美中不足的是，現在很多洞裡都有人為設施，感覺少了一份自然的味道',\n",
       " '史前遺跡石器時代的文物，令人大開眼界！',\n",
       " '沒體力爬完',\n",
       " '很特別的一個天然山洞，當初是當地居躲避颱風天的天然避風港。還有它的泉水是天然的礦泉水，有經過化驗，可以直接飲水，它的水有經過祭拜過也可以稱甘露水，如果想帶回去喝，可以跟它買桶子裝水。極推。',\n",
       " '特殊的空間經驗，地質學家的最佳研究場址。',\n",
       " '早期建廟的破壞 地質特色與文化說明不足',\n",
       " '目前正整修中，無法進入裡面',\n",
       " '很好很漂亮很壯觀',\n",
       " '已經恢復原貌。',\n",
       " '就只是個洞，不值得去玩',\n",
       " '風景有特色',\n",
       " '很棒的地方、有無敵海景',\n",
       " '風景優美，依山傍海。',\n",
       " '很壯觀，只是參觀地方有點小，岩洞就像巨型大喇叭，可以清楚聽到海的回音，很酷!',\n",
       " '有體力可以爬看看',\n",
       " '大部分 洞穴與步道都封閉了個人覺得是白跑一趟',\n",
       " '原來的遺址都已經變成寺廟，太可惜了。',\n",
       " '歷史的痕跡，經過可以去看看！',\n",
       " 'o聽浪看海的好地方。x洞多被廟宇佔據，看不出考古遺址，上層步道設施多損毀。*不收門票，只收停車費，道路邊則免費。提供飲水機。',\n",
       " '可輕鬆欣賞大自然力量',\n",
       " '現在已經將不知所云的廟宇全部移除，呈現最原始的面貌',\n",
       " '在靈岩洞可以聽到海浪的回音，',\n",
       " '健行來說還不錯，可以踏踏階梯看風景',\n",
       " '景色不錯',\n",
       " '位於台九線 …停車方便、 而且是 健行踏青 、考古的地方！',\n",
       " '廟前鯉魚池飼料機吃錢 ，問遊客中心說是私人廟的 ，沒法處理 …………',\n",
       " '可惜沒有全部開放',\n",
       " '天然古蹟，不錯看。',\n",
       " '走走看看，休憩一下，就這樣了',\n",
       " '車子經過看看就好一些自然美麗海蝕洞被人為侵佔不見考古遺址就算了 ⋯⋯更多車子經過看看就好一些自然美麗海蝕洞被人為侵佔不見考古遺址就算了也感受不到廟宇的寧靜祥和狗屎臭氣薰天夾雜香煙繚繞可體驗五味雜陳的滋味！破壞台灣自然地景資源的最佳示範園區',\n",
       " '臺灣重要的史前文化遺址，非常值得登高遠望太平洋與濱海公路。建議政府強硬起來，將違法佔據史前遺址的宗教擺設驅離乾淨，可增加收費，以維護管理步道品質。',\n",
       " '剛好遇到維修，無法完全表示',\n",
       " '地形特殊，洞穴沿著海拔高低排列，有些洞穴內有小販可以購買宗教物品。',\n",
       " '知名老景點 但樓梯棧道損毀頗為嚴重',\n",
       " '支持拆除宗教產物 還原原始面貌',\n",
       " '台灣最古老的遺址，適合全家大小一同出遊，海天一色，心情美麗。',\n",
       " '明明是一級古蹟，收費停車就算了，沿指標的景物都成了宗教的偶像進駐，唉～這個點可以跳過。',\n",
       " '許多洞無法到達，但也希望能藉此還給考古遺址一片寧靜，否則被商業經營模式的佛寺佔據，實屬遺憾。',\n",
       " '就只有洞，很多叔叔阿姨都說就這樣喔！',\n",
       " '有無障礙坡道很不錯',\n",
       " '大自然的奧妙所留下歲月的痕跡',\n",
       " '當作運動不錯，上去步道後風影很好，而且會聽到海浪聲',\n",
       " '尚在整理維修中。景好，高度愈高愈涼爽。',\n",
       " '應該是考古遺跡的保護地，卻有一堆寺廟，還有部分年久失修，有點可惜',\n",
       " '了解歷史的好地方',\n",
       " '非常爛，， 像乞丐窩，， 又髒又亂 ， 丟台灣人的臉，， 台東縣政府的人都在吃大便',\n",
       " '空氣、風景非常好，而已還有海浪聲ㄛ，很棒',\n",
       " '令人放鬆的地方,停車費 50元,廁所乾淨,有些地方在施工',\n",
       " '很美  人間仙境',\n",
       " '重要遺址，但是對沒有文化素養的我來說，有點像在看石頭',\n",
       " '風景漂亮，心曠神怡。',\n",
       " '風景線，可以遠眺海岸線',\n",
       " '風景優美',\n",
       " '八仙洞 沒有八仙 把我的童年還給我',\n",
       " '一般般，有一半以上的洞都封起來無法看',\n",
       " '非常糟，收停車費，每個洞都被佔據，不是佛像就是種菜，非常不值得去！',\n",
       " '與課本上相去不多,有廟宇,一個不錯的休息站',\n",
       " '天然洞穴，雖然進駐各路神明，但風景值得一看',\n",
       " '遺址蠻不錯的 但爬上去偶爾會有小飛蟲。。',\n",
       " '一定要來的',\n",
       " '第一層神像已拆除，景點普通休息一下即可。',\n",
       " '天然景觀',\n",
       " '許久未修復',\n",
       " '還好的景點',\n",
       " '走路爬坡健身好去處。',\n",
       " '景點還好，冬天海風特強又冷，不過紀念品的價位算實在。',\n",
       " '如網友說，坍方了好幾個',\n",
       " '台灣東部著名景點之一，還行，就是走完有些累',\n",
       " '東部知名景點',\n",
       " '很特別 但不太好爬..',\n",
       " '萬年傳統，全新感受',\n",
       " '20121111自然景觀被宗教場所侵佔破壞，可惜美哉風景。',\n",
       " '爬上去遠眺海景還不錯，只是很多洞走不過去了！',\n",
       " '夏天去實在是折磨現在都沒陸客可輕鬆的逛逛',\n",
       " '驚人的大自然 地面上的海侵蝕洞',\n",
       " '爛...都是佛 人為破壞嚴重根本無言',\n",
       " '有地質景觀特色，卻過度人工化，而且非常不合宜',\n",
       " '很壯闊但人多美感就少了點',\n",
       " '躲大太陽可以來坐一下',\n",
       " '大自然的奇觀',\n",
       " '普普  炒麵鹹鹹~',\n",
       " '還好，很多洞沒有開放步道走進去',\n",
       " '整修中，希望整修後可以更好',\n",
       " '受現代人的破壞痕跡',\n",
       " '保護不足、不周延。',\n",
       " '因為整修，只有開放兩個仙洞',\n",
       " '不錯',\n",
       " '還不錯！值的來看看：）',\n",
       " '宗教廟宇破壞了所謂的遺址，讓人卻步',\n",
       " '步道走到頂風景眺望太平洋風景不錯。',\n",
       " '人為佔據嚴重破壞天然景觀 步道多處未維修',\n",
       " '保留很原始的景觀，但很耗體力',\n",
       " '大自然的力量，充滿古老的遺跡，令人 讚賞。',\n",
       " '爬山看海 風景優美',\n",
       " '沿岸風景區',\n",
       " '大老遠跑到這裡就看ㄧ下',\n",
       " '一顆星也沒有，不信自己去看',\n",
       " '風景好  視野更廣闊',\n",
       " '還在整修～～從6月多開始',\n",
       " '路都斷掉，只能走到5號乾元洞',\n",
       " '還是以前的八仙洞較優',\n",
       " '歷史地理景觀+優美海景',\n",
       " '海景不錯，木頭階梯腐朽！',\n",
       " '部份通道是封閉的，鳥瞰海洋很棒',\n",
       " '三仙洞 八仙臺',\n",
       " '自然海蝕洞景觀',\n",
       " '靈巖洞目前整修中。',\n",
       " '適合全家人去',\n",
       " '人類重要的遺址，有的道路險峻，是上不去的',\n",
       " '只適合有宗教信仰的人',\n",
       " '陸客沒來不會有人擠人的現象',\n",
       " '需有腳力，體力，還需毅力',\n",
       " '人變少',\n",
       " '維修中',\n",
       " '地質說明滿詳細的。',\n",
       " '很棒的歷史景點',\n",
       " '最近在施工很可惜沒看到全貌',\n",
       " '值得一遊',\n",
       " '海岸風景實在很優',\n",
       " '景區豐富度足夠',\n",
       " '神仙都不見了',\n",
       " '史前遺址 帶小朋友來參觀',\n",
       " '考古遊憩自然景觀',\n",
       " '壯觀，美麗。',\n",
       " '應該要好好的規劃的風景區',\n",
       " '走進去走出來要半小時',\n",
       " '保留重要歷史遺跡',\n",
       " '台灣人類史的開端',\n",
       " '很漂亮.但是颱風毀了 很多',\n",
       " '超壯觀的自然美景',\n",
       " '趕時間的人請繼續趕路！',\n",
       " '修煉的好地方😄',\n",
       " '爬上健身 無價景觀',\n",
       " '坡度不算大，有印章可蓋',\n",
       " '台東必遊的景點之一。',\n",
       " '不錯',\n",
       " '很大的觀光區，走完吧先',\n",
       " '登高望遠的好地方',\n",
       " '非常有歷史價值的遺跡',\n",
       " '很酷 但是準備整理 希望之後更好',\n",
       " '台灣舊石器時代最早的長濱文化遺址。',\n",
       " '風景很美',\n",
       " '離水的證據，很壯觀',\n",
       " '風景優美',\n",
       " '沒什麼可以看 環境並不是很好',\n",
       " '綠島下次見',\n",
       " '自然景觀',\n",
       " '史前遺址',\n",
       " '值得到訪',\n",
       " '高處仍未開放',\n",
       " '風景不錯',\n",
       " '環境保護的很好',\n",
       " '打卡景點',\n",
       " '景觀自然',\n",
       " '很適合旅人停留喔！',\n",
       " '風景漂亮',\n",
       " '不是很推薦',\n",
       " '不錯的休息旅遊點',\n",
       " '很特別',\n",
       " '設備老舊，步道未整修',\n",
       " '風景漂亮有傳說故事',\n",
       " '風景優美',\n",
       " '先古蹟配合宗教旨意讚',\n",
       " '驚豔 !',\n",
       " '現在空空了',\n",
       " '很特別的地方',\n",
       " '風景',\n",
       " '很多洞都封起來了。',\n",
       " '歷史遺跡',\n",
       " '值得一遊',\n",
       " '可順道走走',\n",
       " '覺得超級漂亮',\n",
       " '還可以',\n",
       " '長濱文化的重要遺跡！',\n",
       " '太熱了！',\n",
       " '風景不錯',\n",
       " '不錯',\n",
       " '路過',\n",
       " '很不錯啊。',\n",
       " '一個被陸客攻佔的地方',\n",
       " '景觀很美!',\n",
       " '沒啥人煙',\n",
       " '台灣發現舊石器時代的地方',\n",
       " '讚讚讚讚讚讚讚讚',\n",
       " '無聊',\n",
       " '人氣不旺',\n",
       " '風景區',\n",
       " '景區',\n",
       " '還好而已',\n",
       " '發現長濱遺址',\n",
       " '欣賞風景',\n",
       " '還不錯',\n",
       " '靈氣逼人',\n",
       " '熱爆了',\n",
       " '還可以',\n",
       " '😌😌😌',\n",
       " '滿不錯的',\n",
       " '沒什麼特別的',\n",
       " '遠古時代的洞穴',\n",
       " '可以在加強規劃',\n",
       " '遺跡',\n",
       " '廟宇不見了。',\n",
       " '壯觀神奇的洞穴',\n",
       " '世界級景點',\n",
       " '磁場強大',\n",
       " '驚喜',\n",
       " '風景絕佳👍',\n",
       " '無聊的地方',\n",
       " '還好',\n",
       " '維修中',\n",
       " '風景美',\n",
       " '遺址',\n",
       " '風景好',\n",
       " '歷史悠久的景點',\n",
       " '在維修部中',\n",
       " '八仙過海囉囉囉~~~',\n",
       " '風景美',\n",
       " '天然的海蝕洞',\n",
       " '爬爬樓梯看看風景',\n",
       " '似乎沒適當維護',\n",
       " '考古中 廟拆遷了',\n",
       " '長濱文化大探險',\n",
       " '古蹟',\n",
       " '石器時代風化遺址',\n",
       " '步道蠻多階梯 健行好地點',\n",
       " '國家一級古蹟',\n",
       " '沒什麼可逛的',\n",
       " '走走逛逛還不錯',\n",
       " '已經封洞',\n",
       " '有海潮共鳴聲',\n",
       " '風景很美。',\n",
       " '壯觀景象',\n",
       " '一定要拜訪的史前遺址',\n",
       " '登山好去處',\n",
       " '遠眺太平洋的好地方',\n",
       " '人類文明歷史的瑰寶',\n",
       " '不會再去 ',\n",
       " '小學生的歷史現場教育',\n",
       " '鐵腿必備景點',\n",
       " '長濱遺址，一定要看',\n",
       " '已經廢棄了',\n",
       " '有些無趣',\n",
       " '沒什麼',\n",
       " '要有腿力和體力加上毅力',\n",
       " '台東最早的史前遺址',\n",
       " '古蹟文化',\n",
       " '長濱文化',\n",
       " '可以走走流流汗～～～～～這樣子吧～～～',\n",
       " '歷史遺跡',\n",
       " '運動一下',\n",
       " '來走走還不錯',\n",
       " '還好',\n",
       " '要爬很高的樓梯',\n",
       " '整亂中',\n",
       " '緩步健行好去處',\n",
       " '還好，缺乏規劃',\n",
       " '都壞掉了 無聊千萬別去!!!!!!!!!!!',\n",
       " '真的很無聊',\n",
       " '舊石器時代的文化資產。',\n",
       " '純散步...',\n",
       " '可觀察長濱文化的真實地點',\n",
       " '個人覺得還好的景點',\n",
       " '',\n",
       " '媽祖廟被拆掉了，失去了原本的觀光特色，也沒有甚麼人潮了…適合自然觀測研究吧',\n",
       " '(由 Google 提供翻譯) 我們去時因工作而休息。出發前最好先告知(原始評論) …更多(由 Google 提供翻譯) 我們去時因工作而休息。出發前最好先告知(原始評論)Was closed for works when we went. Beter be informed before going',\n",
       " '(由 Google 提供翻譯) 它聽起來就像是來自洞穴的波浪。它是由巨石製成的。有一個強大的岩燕窩。它感覺很好。把它放進去是危險的嗎？(原始評論) …更多(由 Google 提供翻譯) 它聽起來就像是來自洞穴的波浪。它是由巨石製成的。有一個強大的岩燕窩。它感覺很好。把它放進去是危險的嗎？(原始評論)空洞から波のみたいな音がする\\u3000一枚岩で出来ているとの事で、迫力はある\\u3000岩ツバメの巣があったりする\\u3000見応えはある感じ\\u3000中に入れないのは、危険?',\n",
       " \"(由 Google 提供翻譯) 由於該地區的岩石落下，無法進入任何洞穴或進行任何列車，所以他們必須關閉它。沒有看到任何東西。(原始評論) …更多(由 Google 提供翻譯) 由於該地區的岩石落下，無法進入任何洞穴或進行任何列車，所以他們必須關閉它。沒有看到任何東西。(原始評論)Can't get into any of the caves or do any train due to falling rocks in the area so they have to close it off. Didn't see anything.\",\n",
       " '(由 Google 提供翻譯) 不幸的是，洞穴已經關閉，由於安全問題你無法進入（nov / 2019）(原始評論) …更多(由 Google 提供翻譯) 不幸的是，洞穴已經關閉，由於安全問題你無法進入（nov / 2019）(原始評論)Unfortunately the caves are closed, you cannot enter due to safety issues (nov/2019)',\n",
       " '(由 Google 提供翻譯) 有施工地段 一些洞看不到(原始評論)有施工地段 一些洞看不到',\n",
       " '(由 Google 提供翻譯) 天然型成的洞穴好神奇喔(原始評論)天然型成的洞穴好神奇喔',\n",
       " '(由 Google 提供翻譯) 兼具地質景觀與史前遺址的八仙洞，位在台東縣長濱鄉三間村一座面海的峭壁上，有自然形成的十數個海蝕洞穴。這些洞穴原在海面，現在卻散佈於150公尺高的山壁上，這是因為在東海岸地殼陸升的過程中，海浪沖蝕岩壁較鬆軟的部份而成。 …更多(由 Google 提供翻譯) 兼具地質景觀與史前遺址的八仙洞，位在台東縣長濱鄉三間村一座面海的峭壁上，有自然形成的十數個海蝕洞穴。這些洞穴原在海面，現在卻散佈於150公尺高的山壁上，這是因為在東海岸地殼陸升的過程中，海浪沖蝕岩壁較鬆軟的部份而成。八仙洞目前設有步道通往各個海蝕洞穴，其中最大的洞穴是靈岩洞，離地面最高的是崑崙洞，高度有130公尺；其他還有乾元洞、朝宸洞、海雷洞、潮音洞、永安洞、水簾洞等。由於洞穴多被用作開闢神壇，因此洞穴名多帶有宗教色彩。八仙洞也是一處重要史前遺址，曾發現非常豐富的舊石器時代先陶文化，經命名為「長濱文化」，這是迄今所知臺灣地區最古老的史前文化遺址，深具重要性，而被列為國定考古遺址。(原始評論)兼具地質景觀與史前遺址的八仙洞，位在台東縣長濱鄉三間村一座面海的峭壁上，有自然形成的十數個海蝕洞穴。這些洞穴原在海面，現在卻散布於150公尺高的山壁上，這是因為在東海岸地殼陸升的過程中，海浪沖蝕岩壁較鬆軟的部份而成。八仙洞目前設有步道通往各個海蝕洞穴，其中最大的洞穴是靈岩洞，離地面最高的是崑崙洞，高度有130公尺；其他還有乾元洞、朝宸洞、海雷洞、潮音洞、永安洞、水簾洞等。由於洞穴多被用作開闢神壇，因此洞穴名多帶有宗教色彩。八仙洞也是一處重要史前遺址，曾發現非常豐富的舊石器時代先陶文化，經命名為「長濱文化」，這是迄今所知臺灣地區最古老的史前文化遺址，深具重要性，而被列為國定考古遺址。',\n",
       " '(由 Google 提供翻譯) 涼爽的洞穴和美麗的海景(原始評論) …更多(由 Google 提供翻譯) 涼爽的洞穴和美麗的海景(原始評論)Cool caves and beautiful ocean view',\n",
       " '(由 Google 提供翻譯) 我以為這個名字有八個洞穴，但看看指南，似乎有更多，更大或更小的洞穴。但是，當我去的時候，我很失望，因為主要洞穴排列的上部禁止通行。 …更多(由 Google 提供翻譯) 我以為這個名字有八個洞穴，但看看指南，似乎有更多，更大或更小的洞穴。但是，當我去的時候，我很失望，因為主要洞穴排列的上部禁止通行。(原始評論)名称からして8つの洞窟があるのかなと思いましたが、案内を見ると大小合わせて、もう少し多いみたいです。しかし、私が行ったときは、メジャーな洞窟が並んでいる上の方は、通行止めになっていて行けなかったので、残念でした。',\n",
       " '(由 Google 提供翻譯) 漂亮的路邊停車站，非常乾淨的浴室和一些很酷的東西。(原始評論) …更多(由 Google 提供翻譯) 漂亮的路邊停車站，非常乾淨的浴室和一些很酷的東西。(原始評論)Nice roadside stop with very clean bathrooms and some cool things to see.',\n",
       " '(由 Google 提供翻譯) 看到板在地面上彼此相遇的位置是不尋常的。我深信台灣有比富士山高的山。(原始評論) …更多(由 Google 提供翻譯) 看到板在地面上彼此相遇的位置是不尋常的。我深信台灣有比富士山高的山。(原始評論)プレートどうしがぶつかり合っているところが、地上で見れるのは珍しい。台湾に富士山より高い山があるのも納得した。',\n",
       " '(由 Google 提供翻譯) 值得在這裡看看(原始評論)Worth to take a look here',\n",
       " \"(由 Google 提供翻譯) 由於最近的地震沒看到太多。鋪好的步行道。(原始評論) …更多(由 Google 提供翻譯) 由於最近的地震沒看到太多。鋪好的步行道。(原始評論)Didn't see much because of the recent earthquake. Nicely paved walking trail.\",\n",
       " '(由 Google 提供翻譯) 兼具地質景觀與史前遺址的八仙洞，位在台東縣長濱鄉三間村一座面海的峭壁上，有自然形成的十數個海蝕洞穴。這些洞穴原在海面，現在卻散佈於150公尺高的山壁上，這是因為在東海岸地殼陸升的過程中，海浪沖蝕岩壁較鬆軟的部份而成。 …更多(由 Google 提供翻譯) 兼具地質景觀與史前遺址的八仙洞，位在台東縣長濱鄉三間村一座面海的峭壁上，有自然形成的十數個海蝕洞穴。這些洞穴原在海面，現在卻散佈於150公尺高的山壁上，這是因為在東海岸地殼陸升的過程中，海浪沖蝕岩壁較鬆軟的部份而成。八仙洞目前設有步道通往各個海蝕洞穴，其中最大的洞穴是靈岩洞，離地面最高的是崑崙洞，高度有130公尺；其他還有乾元洞、朝宸洞、海雷洞、潮音洞、永安洞、水簾洞等。由於洞穴多被用作開闢神壇，因此洞穴名多帶有宗教色彩。八仙洞也是一處重要史前遺址，曾發現非常豐富的舊石器時代先陶文化，經命名為「長濱文化」，這是迄今所知臺灣地區最古老的史前文化遺址，深具重要性，而被列為國定考古遺址。(原始評論)兼具地質景觀與史前遺址的八仙洞，位在台東縣長濱鄉三間村一座面海的峭壁上，有自然形成的十數個海蝕洞穴。這些洞穴原在海面，現在卻散布於150公尺高的山壁上，這是因為在東海岸地殼陸升的過程中，海浪沖蝕岩壁較鬆軟的部份而成。八仙洞目前設有步道通往各個海蝕洞穴，其中最大的洞穴是靈岩洞，離地面最高的是崑崙洞，高度有130公尺；其他還有乾元洞、朝宸洞、海雷洞、潮音洞、永安洞、水簾洞等。由於洞穴多被用作開闢神壇，因此洞穴名多帶有宗教色彩。八仙洞也是一處重要史前遺址，曾發現非常豐富的舊石器時代先陶文化，經命名為「長濱文化」，這是迄今所知臺灣地區最古老的史前文化遺址，深具重要性，而被列為國定考古遺址。',\n",
       " '(由 Google 提供翻譯) 不幸的是，目前所有的洞穴都關閉了（一開始也是大洞穴），即使有跡象表明它應該在7月6日之前開放。(原始評論) …更多(由 Google 提供翻譯) 不幸的是，目前所有的洞穴都關閉了（一開始也是大洞穴），即使有跡象表明它應該在7月6日之前開放。(原始評論)Unfortunately, all caves are currently closed (also the big one in the beginning), even if the signs say that it should have been opened by 6th of July.',\n",
       " '(由 Google 提供翻譯) 裡迅巳繹沒有仙了(原始評論)里迅巳绎没有仙了',\n",
       " '(由 Google 提供翻譯) 特殊造型，鬼斧神工(原始評論)特殊造型，鬼斧神工',\n",
       " '(由 Google 提供翻譯) 海岸的漣漪聲響起，似乎從山洞內聽到！(原始評論) …更多(由 Google 提供翻譯) 海岸的漣漪聲響起，似乎從山洞內聽到！(原始評論)海岸の波打つ音が、共鳴して、洞窟内から聞こえるように思えて来る！',\n",
       " '(由 Google 提供翻譯) 我剛好注意到了2018年7月15日NHK Special中出現的殘餘物。似乎是由石器，陶器和骨頭等製成的石器和陶器，似乎是由大小不一的波浪侵蝕而形成的，大約在3000年前從舊石器時代開始出土。面板顯示在山洞的底部，但舊石器時代的主要遺址是上部的Shigeongdo，但很難上到樹的樓梯。然而，即使在下層的山洞裡，有趣的是曾經離開海岸的潮汐噪音在山洞中迴盪，聽起來相當大。 …更多(由 Google 提供翻譯) 我剛好注意到了2018年7月15日NHK Special中出現的殘餘物。似乎是由石器，陶器和骨頭等製成的石器和陶器，似乎是由大小不一的波浪侵蝕而形成的，大約在3000年前從舊石器時代開始出土。面板顯示在山洞的底部，但舊石器時代的主要遺址是上部的Shigeongdo，但很難上到樹的樓梯。然而，即使在下層的山洞裡，有趣的是曾經離開海岸的潮汐噪音在山洞中迴盪，聽起來相當大。(原始評論)たまたま通りかかって2018年７月15日のNHKスペシャルに出ていた遺構と気づいた。波の侵食でできたらしき大小の洞窟があり旧石器時代から3000年前くらいの石器や土器、骨で出来た縫い針などが出土したらしい。一番下の霊岩洞にパネルが展示されているが旧石器時代のメインの遺跡は上にある潮音洞だが木の階段を上っていくのは大変そうである。が、下の霊岩洞だけでも、一旦海岸を離れ遠ざかった潮騒が洞内で反響して思いのほか大きく聞こえて面白い。',\n",
       " '(由 Google 提供翻譯) 整修中，期待下回。(原始評論)整修中，期待下回。',\n",
       " '(由 Google 提供翻譯) 萬年前的人類生活遺址。在洞穴裡傾聽靜心感受海音與豔陽外的涼風。泠與熱就在1步之遙！(原始評論) …更多(由 Google 提供翻譯) 萬年前的人類生活遺址。在洞穴裡傾聽靜心感受海音與豔陽外的涼風。泠與熱就在1步之遙！(原始評論)萬年前的人類生活遺址。在洞穴裡倾聽靜心感受海音與豔陽外的涼風。泠與熱就在1步之遙！',\n",
       " '(由 Google 提供翻譯) 很特殊的山洞(原始評論)很特殊的山洞',\n",
       " '(由 Google 提供翻譯) 過去的歷史之旅。也很有意思 💯👌a historical tour of the past. also quite interesting 💯👌👌👌 …更多(由 Google 提供翻譯) 過去的歷史之旅。也很有意思 💯👌a historical tour of the past. also quite interesting 💯👌👌👌(原始評論)过去的历史之旅。 也很有意思 💯👌a historical tour of the past.  also quite interesting 💯👌👌👌',\n",
       " '(由 Google 提供翻譯) 真的很失望！一堆佛教的東西！希望看到大自然不是宗教的東西！(原始評論) …更多(由 Google 提供翻譯) 真的很失望！一堆佛教的東西！希望看到大自然不是宗教的東西！(原始評論)Was really disappointing! A bunch of Buddhist stuff! Was hoping to see nature not religious stuff!',\n",
       " '(由 Google 提供翻譯) 鬼斧神工的自然美景(原始評論)鬼斧神工的自然美景',\n",
       " '(由 Google 提供翻譯) 真的小失望...登山步道整修.........(原始評論)真的小失望...登山步道整修.........',\n",
       " '(由 Google 提供翻譯) 八仙 空 洞(原始評論)八仙  空  洞',\n",
       " '(由 Google 提供翻譯) 原先私人佔用問題是解決了，但是一個本來絡繹於途，適合普羅大眾的景點也失去親和力以及人氣，穿鑿附會八仙的手法也許有點粗俗，但某程度也代表著一段歷史，這不就是這個地名的來由。粗糙收回，現在環境變乾淨了，不時有本地僱工修剪那酷似果嶺的草皮，卻人氣不復從前，八仙洞總算又回復那個史前遺跡～廚窗裡的。 …更多(由 Google 提供翻譯) 原先私人佔用問題是解決了，但是一個本來絡繹於途，適合普羅大眾的景點也失去親和力以及人氣，穿鑿附會八仙的手法也許有點粗俗，但某程度也代表著一段歷史，這不就是這個地名的來由。粗糙收回，現在環境變乾淨了，不時有本地僱工修剪那酷似果嶺的草皮，卻人氣不復從前，八仙洞總算又回復那個史前遺跡～廚窗裡的。(原始評論)原先私人占用問題是解決了，但是一個本來絡繹於途，適合普羅大眾的景點也失去親和力以及人氣，穿鑿附會八仙的手法也許有點粗俗，但某程度也代表著一段歷史，這不就是這個地名的來由。粗糙收回，現在環境變乾淨了，不時有本地僱工修剪那酷似果嶺的草皮，卻人氣不復從前，八仙洞總算又回復那個史前遺跡～廚窗裡的。',\n",
       " '(由 Google 提供翻譯) 只須付25元停車費。因為施工中，無法行走步道。只參觀靈岩洞。(原始評論) …更多(由 Google 提供翻譯) 只須付25元停車費。因為施工中，無法行走步道。只參觀靈岩洞。(原始評論)只須付25元停車費。因為施工中，無法行走步道。只参觀靈岩洞。',\n",
       " '(由 Google 提供翻譯) 還不錯...(原始評論)Lumayan lah...',\n",
       " '(由 Google 提供翻譯) 您需要徒步約50分鐘才能返回輕鬆一步，您可以從頂部獲得美景 …更多(由 Google 提供翻譯) 您需要徒步約50分鐘才能返回輕鬆一步，您可以從頂部獲得美景(原始評論)You need to hike about 50 minute for return trip Easy step and you can get nice view from the top',\n",
       " '(由 Google 提供翻譯) 自然型成的天然洞穴(原始評論)自然型成的天然洞穴',\n",
       " '(由 Google 提供翻譯) 涼爽的地方。(原始評論)Tempat yang sejuk.',\n",
       " \"(由 Google 提供翻譯) 這很無聊。(原始評論)It's boring.\",\n",
       " '(由 Google 提供翻譯) 很棒的地方(原始評論)很棒的地方',\n",
       " '(由 Google 提供翻譯) 有趣的網站。遊客中心，禮品店，體面的浴室和信息是雙語的。(原始評論) …更多(由 Google 提供翻譯) 有趣的網站。遊客中心，禮品店，體面的浴室和信息是雙語的。(原始評論)Interesting site.  Visitor center, gift shops, decent bathrooms and information is bilingual.',\n",
       " '(由 Google 提供翻譯) 風㬌優美，可惜洞穴上已經沒有神明了，爬上去不知道要幹麽。(原始評論) …更多(由 Google 提供翻譯) 風㬌優美，可惜洞穴上已經沒有神明了，爬上去不知道要幹麽。(原始評論)風㬌優美，可惜洞穴上已經没有神明了，爬上去不知道要幹麽。',\n",
       " '(由 Google 提供翻譯) 值得一看(原始評論)值得一看',\n",
       " '(由 Google 提供翻譯) 此次造訪並登上洞穴，距前次已是近8年前了，洞封了3洞(整修)，只可進5洞參觀，但內部已不如之前的莊嚴，只見修葺斑駁之痕跡，雖是一級古蹟，但已缺少良善之管理，如要登高望遠俯看太平洋壯闊景色，及練練腳力尚可前往一試。 …更多(由 Google 提供翻譯) 此次造訪並登上洞穴，距前次已是近8年前了，洞封了3洞(整修)，只可進5洞參觀，但內部已不如之前的莊嚴，只見修葺斑駁之痕跡，雖是一級古蹟，但已缺少良善之管理，如要登高望遠俯看太平洋壯闊景色，及練練腳力尚可前往一試。(原始評論)此次造訪並登上洞穴，距前次已是近8年前了，洞封了3洞(整修)，只可進5洞參觀，但内部已不如之前的莊嚴，只見修葺斑駁之痕跡，雖是一級古蹟，但已缺少良善之管理，如要登高望遠俯看太平洋壯闊景色，及練練腳力尚可前往一試。',\n",
       " '(由 Google 提供翻譯) 美(原始評論)美',\n",
       " \"(由 Google 提供翻譯) 附近有一個公共收費停車場（50美元），但我們離開時沒有人收費。這是台灣舊石器文化遺址。 …更多(由 Google 提供翻譯) 附近有一個公共收費停車場（50美元），但我們離開時沒有人收費。這是台灣舊石器文化遺址。靈隱山洞中最大的一個，就在遊客中心後面。我們參觀的那天（2018年4月初）：Chauyin洞穴：開放。永安洞穴：封閉。3.千元山洞：危險，有幾條狗海雷洞穴：封閉。5.超珍洞穴：沿著登山步道開放。實際上沒什麼可看的。如果你不喜歡徒步旅行，只需檢查Lingyen洞即可，因為它是最重要的。其他人很小，事實上沒有什麼可看的。(原始評論)There is a public paid parking nearby ($50), but no one charged us when we were leaving. It's a site of palaeolithic culture in Taiwan. The biggest one is Lingyen cave, just behind the visitor centre. The day (early April 2018) when we visited: 1. Chauyin cave: open. 2. Yongan cave: closed. 3. Chianyuan cave: dangerous, several dogs 4. Hailei cave: closed. 5. Chaozhen cave: last open one along the climbing trail. Nothing to see actually. If you don't like hiking, checking out just Lingyen cave is fine as it's the biggest of all. The others are small and have nothing to see in fact.\",\n",
       " '(由 Google 提供翻譯) 休息站(原始評論)休息站',\n",
       " '(由 Google 提供翻譯) 目前整修中。(原始評論)目前整修中。',\n",
       " '(由 Google 提供翻譯) 舒服的地方(原始評論)舒服的地方',\n",
       " '(由 Google 提供翻譯) 目前洞窟整修中(原始評論)目前洞窟整修中',\n",
       " '(由 Google 提供翻譯) 從山頂的美景很喜歡這個海邊的地方(原始評論) …更多(由 Google 提供翻譯) 從山頂的美景很喜歡這個海邊的地方(原始評論)Great view from the top hill loves this sea side place',\n",
       " '(由 Google 提供翻譯) 很美，鬼斧神工(原始評論)很美，鬼斧神工',\n",
       " '(由 Google 提供翻譯) 目前需要改善(原始評論)目前需要改善',\n",
       " '(由 Google 提供翻譯) 偉大的地方，看到台灣的前歷史發展。停車方便。(原始評論) …更多(由 Google 提供翻譯) 偉大的地方，看到台灣的前歷史發展。停車方便。(原始評論)Great place to see the pre historical development of Taiwan. Easy parking .',\n",
       " '(由 Google 提供翻譯) 弱點(原始評論)Słabe',\n",
       " '(由 Google 提供翻譯) 整修中(原始評論)整修中',\n",
       " '(由 Google 提供翻譯) 整潔的小地方參觀。需要30-45分鐘(原始評論) …更多(由 Google 提供翻譯) 整潔的小地方參觀。需要30-45分鐘(原始評論)Neat little place to visit. Takes 30-45 minutes',\n",
       " '(由 Google 提供翻譯) 鬼斧神工(原始評論)鬼斧神工',\n",
       " '(由 Google 提供翻譯) 整修中，一堆洞不能看(原始評論)整修中，一堆洞不能看',\n",
       " '(由 Google 提供翻譯) 散步，健走的好地方(原始評論)散步，健走的好地方',\n",
       " '(由 Google 提供翻譯) 每次去的時候都會有細微的差別(原始評論)行く度に微妙な違いがある',\n",
       " '(由 Google 提供翻譯) 不錯的地方..太自然..(原始評論)Nice place..so natural..',\n",
       " '(由 Google 提供翻譯) 走走散心(原始評論)走走散心',\n",
       " \"(由 Google 提供翻譯) 不錯的地方，如果你已經開車的話，請停下來看看洞穴。(原始評論) …更多(由 Google 提供翻譯) 不錯的地方，如果你已經開車的話，請停下來看看洞穴。(原始評論)Nice place, do make a stop to look at the caves, if you're already driving by. \",\n",
       " '(由 Google 提供翻譯) 雄偉的山脈。岩石和空腔。(原始評論) …更多(由 Google 提供翻譯) 雄偉的山脈。岩石和空腔。(原始評論)Majestic mountains. Rocks and cavities.',\n",
       " '(由 Google 提供翻譯) 走走有益健康，有山有海有猴(原始評論)走走有益健康，有山有海有猴',\n",
       " '(由 Google 提供翻譯) 奇特(原始評論)奇特',\n",
       " '(由 Google 提供翻譯) 很大(原始評論)很大',\n",
       " '(由 Google 提供翻譯) 大自然創造的風景是有尊嚴的。我理解上帝的感受並放棄它，但我希望你多想一想......(原始評論) …更多(由 Google 提供翻譯) 大自然創造的風景是有尊嚴的。我理解上帝的感受並放棄它，但我希望你多想一想......(原始評論)自然が作り出した風景は威厳あり。神を感じて奉る気持ちもわかるけど、もうすこし考えてほしいな・・',\n",
       " '(由 Google 提供翻譯) 往上走，海景越漂亮(原始評論)往上走，海景越漂亮',\n",
       " '(由 Google 提供翻譯) 一個提供自然美景和涼爽的地方(原始評論) …更多(由 Google 提供翻譯) 一個提供自然美景和涼爽的地方(原始評論)tempat yang menawarkan keindahan alam dan sejuk',\n",
       " '(由 Google 提供翻譯) 看海景比看洞好看(原始評論)看海景比看洞好看',\n",
       " '(由 Google 提供翻譯) 很好(原始評論)war nett',\n",
       " '(由 Google 提供翻譯) 沒有深入遊覽，在下面的地方吃了個飯。(原始評論)没有深入游览，在下面的地方吃了个饭。',\n",
       " '(由 Google 提供翻譯) 整修中(原始評論)整修中',\n",
       " '(由 Google 提供翻譯) 好玩(原始評論)好玩',\n",
       " '(由 Google 提供翻譯) 沒什好看的。(原始評論)没什好看的。',\n",
       " '(由 Google 提供翻譯) 散步好(原始評論)散步好',\n",
       " '(由 Google 提供翻譯) 非常有趣的地方(原始評論)Very interesting place',\n",
       " '(由 Google 提供翻譯) 鬼斧神工,正在施工.(原始評論)鬼斧神工,正在施工.',\n",
       " '(由 Google 提供翻譯) 有猴子！(原始評論)有猴子！',\n",
       " '(由 Google 提供翻譯) 從花蓮到台東沿太平洋沿岸的觀景點之一。(原始評論) …更多(由 Google 提供翻譯) 從花蓮到台東沿太平洋沿岸的觀景點之一。(原始評論)One of the viewing point along the Pacific Coast from Hualien to Taitung.',\n",
       " '(由 Google 提供翻譯) 很美啊..(原始評論)很美啊..',\n",
       " '(由 Google 提供翻譯) 爬山健行(原始評論)爬山健行',\n",
       " '(由 Google 提供翻譯) 整修中……(原始評論)整修中……',\n",
       " '(由 Google 提供翻譯) 涼涼的還不錯 …更多(由 Google 提供翻譯) 涼涼的還不錯(原始評論)凉凉的还不错',\n",
       " '(由 Google 提供翻譯) 漂亮(原始評論)漂亮',\n",
       " '(由 Google 提供翻譯) 失望(原始評論)失望',\n",
       " '(由 Google 提供翻譯) 好逛(原始評論)好逛',\n",
       " '(由 Google 提供翻譯) 洞很美(原始評論)洞很美',\n",
       " '(由 Google 提供翻譯) 中等(原始評論)中等',\n",
       " '(由 Google 提供翻譯) 走走散心(原始評論)走走散心',\n",
       " '(由 Google 提供翻譯) 超美的(原始評論)超美的',\n",
       " '(由 Google 提供翻譯) 水啦(原始評論)水啦',\n",
       " '(由 Google 提供翻譯) 在整修中(原始評論)在整修中',\n",
       " '(由 Google 提供翻譯) 有山有海~(原始評論)有山有海~',\n",
       " '(由 Google 提供翻譯) 奇景(原始評論)奇景',\n",
       " '(由 Google 提供翻譯) 可以走走看看(原始評論)可以走走看看',\n",
       " '(由 Google 提供翻譯) 很美(原始評論)很美',\n",
       " '(由 Google 提供翻譯) 好棒(原始評論)好棒',\n",
       " '(由 Google 提供翻譯) 就走走看看(原始評論)就走走看看',\n",
       " '(由 Google 提供翻譯) 整修中(原始評論)整修中',\n",
       " '(由 Google 提供翻譯) 美啊(原始評論)美啊',\n",
       " '(由 Google 提供翻譯) 健身 散心(原始評論)健身  散心',\n",
       " '(由 Google 提供翻譯) 普通(原始評論)普通',\n",
       " '(由 Google 提供翻譯) 鬼斧神工(原始評論)鬼斧神工',\n",
       " '(由 Google 提供翻譯) 漂亮(原始評論)漂亮',\n",
       " '(由 Google 提供翻譯) 大洞(原始評論)Big cave.',\n",
       " '(由 Google 提供翻譯) 要有爬山的打算(原始評論)要有爬山的打算',\n",
       " '(由 Google 提供翻譯) 自然(原始評論)自然',\n",
       " '(由 Google 提供翻譯) 就剩一大洞(原始評論)就剩一大洞',\n",
       " '(由 Google 提供翻譯) 好(原始評論)OK',\n",
       " '(由 Google 提供翻譯) 好地方(原始評論)好地方',\n",
       " '(由 Google 提供翻譯) 不好玩也不好看(原始評論)不好玩也不好看',\n",
       " '(由 Google 提供翻譯) 好山好水(原始評論)好山好水',\n",
       " '(由 Google 提供翻譯) 大自然真神奇(原始評論)大自然真神奇',\n",
       " '(由 Google 提供翻譯) 可走走看看。(原始評論)可走走看看。',\n",
       " '(由 Google 提供翻譯) 涼(原始評論)Cool',\n",
       " '(由 Google 提供翻譯) 漂亮。(原始評論)漂亮。',\n",
       " '(由 Google 提供翻譯) 住持生病，正在改建。(原始評論)住持生病，正在改建。',\n",
       " '(由 Google 提供翻譯) 普通(原始評論)普通',\n",
       " '(由 Google 提供翻譯) 有胩油香客(原始評論)有胩油香客',\n",
       " '(由 Google 提供翻譯) 圖像有點邪惡(原始評論)图像有点邪恶',\n",
       " '(由 Google 提供翻譯) 佔用情況與週邊停車還需好好處理(原始評論)佔用情況與周邊停車還需好好處理',\n",
       " '(由 Google 提供翻譯) 整休(原始評論)整休',\n",
       " '(由 Google 提供翻譯) 目前整修中(原始評論)目前整修中',\n",
       " '(由 Google 提供翻譯) 整修中(原始評論)整修中',\n",
       " '(由 Google 提供翻譯) 漂亮(原始評論)漂亮',\n",
       " '(由 Google 提供翻譯) 在我家隔壁(原始評論)在我家隔壁',\n",
       " \"(由 Google 提供翻譯) 沒什麼............(原始評論)It's nothing............\",\n",
       " '(由 Google 提供翻譯) 嗯微妙(原始評論)うーん微妙',\n",
       " '(由 Google 提供翻譯) 大多數都關閉了。不值得一遊。(原始評論) …更多(由 Google 提供翻譯) 大多數都關閉了。不值得一遊。(原始評論)Most of it is closed. Not worth the visit. ',\n",
       " '(由 Google 提供翻譯) 這裡沒什麼可做的(原始評論)Nothing much to do here',\n",
       " '(由 Google 提供翻譯) 史前文化(原始評論)史前文化',\n",
       " '(由 Google 提供翻譯) 2016施工中(原始評論)2016施工中',\n",
       " '(由 Google 提供翻譯) 真好(原始評論)Nice.',\n",
       " '(由 Google 提供翻譯) 人為佔據破壞嚴重(原始評論)人為占據破壞嚴重',\n",
       " '(由 Google 提供翻譯) 不錯，來吧5分鐘(原始評論)Not bad, come for 5 mins ']"
      ]
     },
     "execution_count": 41,
     "metadata": {},
     "output_type": "execute_result"
    }
   ],
   "source": [
    "comment_result_ls"
   ]
  },
  {
   "cell_type": "code",
   "execution_count": 43,
   "metadata": {
    "scrolled": true
   },
   "outputs": [],
   "source": [
    "info_dt['comment'] = comment_result_ls"
   ]
  },
  {
   "cell_type": "markdown",
   "metadata": {},
   "source": [
    "## step 7: 爬取時段"
   ]
  },
  {
   "cell_type": "code",
   "execution_count": 44,
   "metadata": {},
   "outputs": [],
   "source": [
    "open_day = soup.find_all('td', class_=\"SKNSIb\")"
   ]
  },
  {
   "cell_type": "code",
   "execution_count": 46,
   "metadata": {},
   "outputs": [],
   "source": [
    "open_time = {i.text:i.next_sibling.text for i in open_day}"
   ]
  },
  {
   "cell_type": "code",
   "execution_count": 47,
   "metadata": {},
   "outputs": [
    {
     "name": "stdout",
     "output_type": "stream",
     "text": [
      "{'星期二': '08:30–17:00', '星期三': '08:30–17:00', '星期四': '08:30–17:00', '星期五': '08:30–17:00', '星期六': '08:30–17:00', '星期日': '08:30–17:00', '星期一': '08:30–17:00'}\n"
     ]
    }
   ],
   "source": [
    "info_dt['營業時間'] = open_time\n",
    "print(open_time)"
   ]
  },
  {
   "cell_type": "code",
   "execution_count": 48,
   "metadata": {},
   "outputs": [],
   "source": [
    "from selenium import webdriver\n",
    "from bs4 import BeautifulSoup\n",
    "import time"
   ]
  },
  {
   "cell_type": "code",
   "execution_count": 49,
   "metadata": {},
   "outputs": [],
   "source": [
    "browser = webdriver.Chrome('../chromedriver.exe')\n",
    "browser.get(info_dt['google_map_url'])"
   ]
  },
  {
   "cell_type": "code",
   "execution_count": 56,
   "metadata": {},
   "outputs": [],
   "source": [
    "htmlstring = browser.page_source\n",
    "browser.close()"
   ]
  },
  {
   "cell_type": "code",
   "execution_count": 57,
   "metadata": {},
   "outputs": [],
   "source": [
    "soup_map = BeautifulSoup(htmlstring, 'lxml')"
   ]
  },
  {
   "cell_type": "code",
   "execution_count": 58,
   "metadata": {},
   "outputs": [],
   "source": [
    "soup_map_clear = soup_map.find(class_=\"section-popular-times-container\")"
   ]
  },
  {
   "cell_type": "code",
   "execution_count": 59,
   "metadata": {},
   "outputs": [],
   "source": [
    "soup_map_d_ls = [i for i in list(soup_map_clear.children) if i !=' ']"
   ]
  },
  {
   "cell_type": "code",
   "execution_count": 92,
   "metadata": {},
   "outputs": [],
   "source": [
    "result_dt = {}\n",
    "for day, item in enumerate(soup_map_d_ls):\n",
    "    soup_map_t_ls = [i['aria-label'] for i in list(item.descendants) if (str(i).find('繁忙程度')!=-1) & (str(i).find('section-popular-times-graph')==-1)]\n",
    "    result_dt[day] = {i.split(' ')[0]:i.split(' ')[2].replace('。','') for i in soup_map_t_ls}"
   ]
  },
  {
   "cell_type": "code",
   "execution_count": 93,
   "metadata": {},
   "outputs": [
    {
     "data": {
      "text/plain": [
       "{0: {'6時': '0%',\n",
       "  '7時': '0%',\n",
       "  '8時': '1%',\n",
       "  '9時': '6%',\n",
       "  '10時': '26%',\n",
       "  '11時': '70%',\n",
       "  '12時': '100%',\n",
       "  '13時': '90%',\n",
       "  '14時': '70%',\n",
       "  '15時': '52%',\n",
       "  '16時': '30%',\n",
       "  '17時': '0%',\n",
       "  '18時': '0%',\n",
       "  '19時': '0%',\n",
       "  '20時': '0%',\n",
       "  '21時': '0%',\n",
       "  '22時': '0%',\n",
       "  '23時': '0%'},\n",
       " 1: {'6時': '0%',\n",
       "  '7時': '0%',\n",
       "  '8時': '3%',\n",
       "  '9時': '10%',\n",
       "  '10時': '23%',\n",
       "  '11時': '40%',\n",
       "  '12時': '54%',\n",
       "  '13時': '58%',\n",
       "  '14時': '49%',\n",
       "  '15時': '33%',\n",
       "  '16時': '19%',\n",
       "  '17時': '0%',\n",
       "  '18時': '0%',\n",
       "  '19時': '0%',\n",
       "  '20時': '0%',\n",
       "  '21時': '0%',\n",
       "  '22時': '0%',\n",
       "  '23時': '0%'},\n",
       " 2: {'6時': '0%',\n",
       "  '7時': '0%',\n",
       "  '8時': '3%',\n",
       "  '9時': '9%',\n",
       "  '10時': '21%',\n",
       "  '11時': '38%',\n",
       "  '12時': '54%',\n",
       "  '13時': '62%',\n",
       "  '14時': '56%',\n",
       "  '15時': '40%',\n",
       "  '16時': '23%',\n",
       "  '17時': '0%',\n",
       "  '18時': '0%',\n",
       "  '19時': '0%',\n",
       "  '20時': '0%',\n",
       "  '21時': '0%',\n",
       "  '22時': '0%',\n",
       "  '23時': '0%'},\n",
       " 3: {'6時': '0%',\n",
       "  '7時': '0%',\n",
       "  '8時': '3%',\n",
       "  '9時': '9%',\n",
       "  '10時': '20%',\n",
       "  '11時': '37%',\n",
       "  '12時': '52%',\n",
       "  '13時': '58%',\n",
       "  '14時': '48%',\n",
       "  '15時': '32%',\n",
       "  '16時': '16%',\n",
       "  '17時': '0%',\n",
       "  '18時': '0%',\n",
       "  '19時': '0%',\n",
       "  '20時': '0%',\n",
       "  '21時': '0%',\n",
       "  '22時': '0%',\n",
       "  '23時': '0%'},\n",
       " 4: {'6時': '0%',\n",
       "  '7時': '0%',\n",
       "  '8時': '2%',\n",
       "  '9時': '7%',\n",
       "  '10時': '19%',\n",
       "  '11時': '33%',\n",
       "  '12時': '45%',\n",
       "  '13時': '51%',\n",
       "  '14時': '54%',\n",
       "  '15時': '48%',\n",
       "  '16時': '29%',\n",
       "  '17時': '0%',\n",
       "  '18時': '0%',\n",
       "  '19時': '0%',\n",
       "  '20時': '0%',\n",
       "  '21時': '0%',\n",
       "  '22時': '0%',\n",
       "  '23時': '0%'},\n",
       " 5: {'6時': '0%',\n",
       "  '7時': '0%',\n",
       "  '8時': '4%',\n",
       "  '9時': '12%',\n",
       "  '10時': '25%',\n",
       "  '11時': '34%',\n",
       "  '12時': '35%',\n",
       "  '13時': '41%',\n",
       "  '14時': '56%',\n",
       "  '15時': '55%',\n",
       "  '16時': '32%',\n",
       "  '17時': '0%',\n",
       "  '18時': '0%',\n",
       "  '19時': '0%',\n",
       "  '20時': '0%',\n",
       "  '21時': '0%',\n",
       "  '22時': '0%',\n",
       "  '23時': '0%'},\n",
       " 6: {'6時': '0%',\n",
       "  '7時': '0%',\n",
       "  '8時': '2%',\n",
       "  '9時': '9%',\n",
       "  '10時': '30%',\n",
       "  '11時': '55%',\n",
       "  '12時': '63%',\n",
       "  '13時': '58%',\n",
       "  '14時': '67%',\n",
       "  '15時': '77%',\n",
       "  '16時': '57%',\n",
       "  '17時': '0%',\n",
       "  '18時': '0%',\n",
       "  '19時': '0%',\n",
       "  '20時': '0%',\n",
       "  '21時': '0%',\n",
       "  '22時': '0%',\n",
       "  '23時': '0%'}}"
      ]
     },
     "execution_count": 93,
     "metadata": {},
     "output_type": "execute_result"
    }
   ],
   "source": [
    "result_dt"
   ]
  },
  {
   "cell_type": "code",
   "execution_count": 100,
   "metadata": {},
   "outputs": [
    {
     "data": {
      "text/html": [
       "<div>\n",
       "<style scoped>\n",
       "    .dataframe tbody tr th:only-of-type {\n",
       "        vertical-align: middle;\n",
       "    }\n",
       "\n",
       "    .dataframe tbody tr th {\n",
       "        vertical-align: top;\n",
       "    }\n",
       "\n",
       "    .dataframe thead th {\n",
       "        text-align: right;\n",
       "    }\n",
       "</style>\n",
       "<table border=\"1\" class=\"dataframe\">\n",
       "  <thead>\n",
       "    <tr style=\"text-align: right;\">\n",
       "      <th></th>\n",
       "      <th>0</th>\n",
       "      <th>1</th>\n",
       "      <th>2</th>\n",
       "      <th>3</th>\n",
       "      <th>4</th>\n",
       "      <th>5</th>\n",
       "      <th>6</th>\n",
       "    </tr>\n",
       "  </thead>\n",
       "  <tbody>\n",
       "    <tr>\n",
       "      <td>6時</td>\n",
       "      <td>0%</td>\n",
       "      <td>0%</td>\n",
       "      <td>0%</td>\n",
       "      <td>0%</td>\n",
       "      <td>0%</td>\n",
       "      <td>0%</td>\n",
       "      <td>0%</td>\n",
       "    </tr>\n",
       "    <tr>\n",
       "      <td>7時</td>\n",
       "      <td>0%</td>\n",
       "      <td>0%</td>\n",
       "      <td>0%</td>\n",
       "      <td>0%</td>\n",
       "      <td>0%</td>\n",
       "      <td>0%</td>\n",
       "      <td>0%</td>\n",
       "    </tr>\n",
       "    <tr>\n",
       "      <td>8時</td>\n",
       "      <td>1%</td>\n",
       "      <td>3%</td>\n",
       "      <td>3%</td>\n",
       "      <td>3%</td>\n",
       "      <td>2%</td>\n",
       "      <td>4%</td>\n",
       "      <td>2%</td>\n",
       "    </tr>\n",
       "    <tr>\n",
       "      <td>9時</td>\n",
       "      <td>6%</td>\n",
       "      <td>10%</td>\n",
       "      <td>9%</td>\n",
       "      <td>9%</td>\n",
       "      <td>7%</td>\n",
       "      <td>12%</td>\n",
       "      <td>9%</td>\n",
       "    </tr>\n",
       "    <tr>\n",
       "      <td>10時</td>\n",
       "      <td>26%</td>\n",
       "      <td>23%</td>\n",
       "      <td>21%</td>\n",
       "      <td>20%</td>\n",
       "      <td>19%</td>\n",
       "      <td>25%</td>\n",
       "      <td>30%</td>\n",
       "    </tr>\n",
       "    <tr>\n",
       "      <td>11時</td>\n",
       "      <td>70%</td>\n",
       "      <td>40%</td>\n",
       "      <td>38%</td>\n",
       "      <td>37%</td>\n",
       "      <td>33%</td>\n",
       "      <td>34%</td>\n",
       "      <td>55%</td>\n",
       "    </tr>\n",
       "    <tr>\n",
       "      <td>12時</td>\n",
       "      <td>100%</td>\n",
       "      <td>54%</td>\n",
       "      <td>54%</td>\n",
       "      <td>52%</td>\n",
       "      <td>45%</td>\n",
       "      <td>35%</td>\n",
       "      <td>63%</td>\n",
       "    </tr>\n",
       "    <tr>\n",
       "      <td>13時</td>\n",
       "      <td>90%</td>\n",
       "      <td>58%</td>\n",
       "      <td>62%</td>\n",
       "      <td>58%</td>\n",
       "      <td>51%</td>\n",
       "      <td>41%</td>\n",
       "      <td>58%</td>\n",
       "    </tr>\n",
       "    <tr>\n",
       "      <td>14時</td>\n",
       "      <td>70%</td>\n",
       "      <td>49%</td>\n",
       "      <td>56%</td>\n",
       "      <td>48%</td>\n",
       "      <td>54%</td>\n",
       "      <td>56%</td>\n",
       "      <td>67%</td>\n",
       "    </tr>\n",
       "    <tr>\n",
       "      <td>15時</td>\n",
       "      <td>52%</td>\n",
       "      <td>33%</td>\n",
       "      <td>40%</td>\n",
       "      <td>32%</td>\n",
       "      <td>48%</td>\n",
       "      <td>55%</td>\n",
       "      <td>77%</td>\n",
       "    </tr>\n",
       "    <tr>\n",
       "      <td>16時</td>\n",
       "      <td>30%</td>\n",
       "      <td>19%</td>\n",
       "      <td>23%</td>\n",
       "      <td>16%</td>\n",
       "      <td>29%</td>\n",
       "      <td>32%</td>\n",
       "      <td>57%</td>\n",
       "    </tr>\n",
       "    <tr>\n",
       "      <td>17時</td>\n",
       "      <td>0%</td>\n",
       "      <td>0%</td>\n",
       "      <td>0%</td>\n",
       "      <td>0%</td>\n",
       "      <td>0%</td>\n",
       "      <td>0%</td>\n",
       "      <td>0%</td>\n",
       "    </tr>\n",
       "    <tr>\n",
       "      <td>18時</td>\n",
       "      <td>0%</td>\n",
       "      <td>0%</td>\n",
       "      <td>0%</td>\n",
       "      <td>0%</td>\n",
       "      <td>0%</td>\n",
       "      <td>0%</td>\n",
       "      <td>0%</td>\n",
       "    </tr>\n",
       "    <tr>\n",
       "      <td>19時</td>\n",
       "      <td>0%</td>\n",
       "      <td>0%</td>\n",
       "      <td>0%</td>\n",
       "      <td>0%</td>\n",
       "      <td>0%</td>\n",
       "      <td>0%</td>\n",
       "      <td>0%</td>\n",
       "    </tr>\n",
       "    <tr>\n",
       "      <td>20時</td>\n",
       "      <td>0%</td>\n",
       "      <td>0%</td>\n",
       "      <td>0%</td>\n",
       "      <td>0%</td>\n",
       "      <td>0%</td>\n",
       "      <td>0%</td>\n",
       "      <td>0%</td>\n",
       "    </tr>\n",
       "    <tr>\n",
       "      <td>21時</td>\n",
       "      <td>0%</td>\n",
       "      <td>0%</td>\n",
       "      <td>0%</td>\n",
       "      <td>0%</td>\n",
       "      <td>0%</td>\n",
       "      <td>0%</td>\n",
       "      <td>0%</td>\n",
       "    </tr>\n",
       "    <tr>\n",
       "      <td>22時</td>\n",
       "      <td>0%</td>\n",
       "      <td>0%</td>\n",
       "      <td>0%</td>\n",
       "      <td>0%</td>\n",
       "      <td>0%</td>\n",
       "      <td>0%</td>\n",
       "      <td>0%</td>\n",
       "    </tr>\n",
       "    <tr>\n",
       "      <td>23時</td>\n",
       "      <td>0%</td>\n",
       "      <td>0%</td>\n",
       "      <td>0%</td>\n",
       "      <td>0%</td>\n",
       "      <td>0%</td>\n",
       "      <td>0%</td>\n",
       "      <td>0%</td>\n",
       "    </tr>\n",
       "  </tbody>\n",
       "</table>\n",
       "</div>"
      ],
      "text/plain": [
       "        0    1    2    3    4    5    6\n",
       "6時     0%   0%   0%   0%   0%   0%   0%\n",
       "7時     0%   0%   0%   0%   0%   0%   0%\n",
       "8時     1%   3%   3%   3%   2%   4%   2%\n",
       "9時     6%  10%   9%   9%   7%  12%   9%\n",
       "10時   26%  23%  21%  20%  19%  25%  30%\n",
       "11時   70%  40%  38%  37%  33%  34%  55%\n",
       "12時  100%  54%  54%  52%  45%  35%  63%\n",
       "13時   90%  58%  62%  58%  51%  41%  58%\n",
       "14時   70%  49%  56%  48%  54%  56%  67%\n",
       "15時   52%  33%  40%  32%  48%  55%  77%\n",
       "16時   30%  19%  23%  16%  29%  32%  57%\n",
       "17時    0%   0%   0%   0%   0%   0%   0%\n",
       "18時    0%   0%   0%   0%   0%   0%   0%\n",
       "19時    0%   0%   0%   0%   0%   0%   0%\n",
       "20時    0%   0%   0%   0%   0%   0%   0%\n",
       "21時    0%   0%   0%   0%   0%   0%   0%\n",
       "22時    0%   0%   0%   0%   0%   0%   0%\n",
       "23時    0%   0%   0%   0%   0%   0%   0%"
      ]
     },
     "execution_count": 100,
     "metadata": {},
     "output_type": "execute_result"
    }
   ],
   "source": [
    "pd.DataFrame(info_dt['時間人潮'])"
   ]
  },
  {
   "cell_type": "code",
   "execution_count": 94,
   "metadata": {
    "scrolled": true
   },
   "outputs": [],
   "source": [
    "info_dt['時間人潮'] = result_dt"
   ]
  },
  {
   "cell_type": "code",
   "execution_count": 95,
   "metadata": {},
   "outputs": [],
   "source": [
    "df = pd.DataFrame.from_dict(info_dt, orient=\"index\")"
   ]
  },
  {
   "cell_type": "code",
   "execution_count": 96,
   "metadata": {},
   "outputs": [],
   "source": [
    "df.T.to_json('{}_result.json'.format(target))"
   ]
  },
  {
   "cell_type": "code",
   "execution_count": 97,
   "metadata": {},
   "outputs": [],
   "source": [
    "pd.DataFrame(info_dt['comment'], columns=['評論']).to_excel('{}_comment_result.xlsx'.format(target))"
   ]
  },
  {
   "cell_type": "code",
   "execution_count": 98,
   "metadata": {},
   "outputs": [],
   "source": [
    "df = pd.DataFrame.from_dict(info_dt['other_search_result'], orient=\"index\").reset_index()"
   ]
  },
  {
   "cell_type": "code",
   "execution_count": 99,
   "metadata": {},
   "outputs": [],
   "source": [
    "# 解決 excel 不能存長網址，https://stackoverflow.com/questions/35440528/how-to-save-in-xlsx-long-url-in-cell-using-pandas\n",
    "writer = pd.ExcelWriter('{}_relate_search_result.xlsx'.format(target), engine='xlsxwriter',options={'strings_to_urls': False})\n",
    "df.to_excel(writer)\n",
    "writer.close()"
   ]
  },
  {
   "cell_type": "code",
   "execution_count": null,
   "metadata": {},
   "outputs": [],
   "source": []
  }
 ],
 "metadata": {
  "kernelspec": {
   "display_name": "Python 3",
   "language": "python",
   "name": "python3"
  },
  "language_info": {
   "codemirror_mode": {
    "name": "ipython",
    "version": 3
   },
   "file_extension": ".py",
   "mimetype": "text/x-python",
   "name": "python",
   "nbconvert_exporter": "python",
   "pygments_lexer": "ipython3",
   "version": "3.7.6-final"
  }
 },
 "nbformat": 4,
 "nbformat_minor": 2
}