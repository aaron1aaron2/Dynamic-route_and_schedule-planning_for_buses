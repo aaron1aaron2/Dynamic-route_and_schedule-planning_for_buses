{
 "cells": [
  {
   "cell_type": "markdown",
   "source": [
    "# Google_trend_data_select_by_deferred\r\n",
    "\r\n",
    "## INFO\r\n",
    "- \\[Encoding\\] : `utf-8`\r\n",
    "- \\[Author\\] : `yen-nan ho`\r\n",
    "- \\[Contact\\] : `aaron1aaron2@gmail.com`\r\n",
    "- \\[GitHub\\] : `https://github.com/aaron1aaron2`\r\n",
    "- \\[Create Date\\] :  `20210910`\r\n",
    "\r\n"
   ],
   "metadata": {}
  },
  {
   "cell_type": "markdown",
   "source": [
    "## 輔助 function"
   ],
   "metadata": {}
  },
  {
   "cell_type": "code",
   "execution_count": null,
   "source": [
    "import pandas as pd\r\n",
    "import os\r\n",
    "\r\n",
    "def combine_google_trend_data(data_path):\r\n",
    "    \"\"\"合併個關鍵字手動下載的結果\"\"\"\r\n",
    "    file_ls = [i for i in os.listdir(data_path) if i.find('.csv')!=-1]\r\n",
    "\r\n",
    "    result = pd.DataFrame()\r\n",
    "    for file in file_ls:\r\n",
    "        popularity = pd.read_csv(os.path.join(data_path, file), skiprows=3, header=None)\r\n",
    "        popularity.columns = ['date','search_rate']\r\n",
    "        popularity['keyword'] = keyword\r\n",
    "\r\n",
    "        result = result.append(popularity)\r\n",
    "\r\n",
    "    result = pd.concat([result, result['date'].str.extract('(?P<year>\\d+)-(?P<month>\\d+)-\\d+')], axis=1)\r\n",
    "\r\n",
    "    return result"
   ],
   "outputs": [],
   "metadata": {}
  },
  {
   "cell_type": "markdown",
   "source": [
    "## 1. 清整資料"
   ],
   "metadata": {}
  },
  {
   "cell_type": "code",
   "execution_count": null,
   "source": [
    "import pandas as pd\r\n",
    "\r\n",
    "# 將 google trand 的原始資料集合起來\r\n",
    "googletrend_df = combine_google_trend_data(\"data/raw/google_trend/spots\")\r\n",
    "googletrend_df.to_csv(\"data/proccess/2_google_trend/googletrend_keyword_combine.v1.py\", index=False)"
   ],
   "outputs": [],
   "metadata": {}
  }
 ],
 "metadata": {
  "orig_nbformat": 4,
  "language_info": {
   "name": "python"
  }
 },
 "nbformat": 4,
 "nbformat_minor": 2
}